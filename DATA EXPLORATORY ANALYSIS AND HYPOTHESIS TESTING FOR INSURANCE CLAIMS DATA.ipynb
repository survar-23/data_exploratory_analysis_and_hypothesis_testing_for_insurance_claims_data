{
 "cells": [
  {
   "cell_type": "markdown",
   "id": "bd5a6a9d",
   "metadata": {},
   "source": [
    "### <center> DATA EXPLORATORY ANALYSIS AND HYPOTHESIS TESTING FOR INSURANCE CLAIMS DATA </center>\n"
   ]
  },
  {
   "cell_type": "code",
   "execution_count": 1,
   "id": "032590a3",
   "metadata": {},
   "outputs": [],
   "source": [
    "#import libraries\n",
    "\n",
    "import numpy as np\n",
    "import pandas as pd\n",
    "import seaborn as sns\n",
    "import matplotlib.pyplot as plt\n",
    "%matplotlib inline\n",
    "from datetime import datetime,timedelta, date\n",
    "import scipy.stats as stats"
   ]
  },
  {
   "cell_type": "markdown",
   "id": "c5a1d6b6",
   "metadata": {},
   "source": [
    "### 1. Import claims_data.csv and cust_data.csv which is provided to you and combine the two datasets appropriately to create a 360-degree view of the data. Use the same for the subsequent questions."
   ]
  },
  {
   "cell_type": "code",
   "execution_count": 2,
   "id": "a08b3b70",
   "metadata": {},
   "outputs": [],
   "source": [
    "claims=pd.read_csv(\"E:\\CS\\AnalytixLabs 2022 December\\Data Science 360\\Python\\Python Foundation Case Study 3 Insurance Claim\\Case Study 3 - Insurance Claims Case Study\\claims.csv\")"
   ]
  },
  {
   "cell_type": "code",
   "execution_count": 3,
   "id": "cc0155e5",
   "metadata": {},
   "outputs": [],
   "source": [
    "cust_demographics=pd.read_csv(\"E:\\CS\\AnalytixLabs 2022 December\\Data Science 360\\Python\\Python Foundation Case Study 3 Insurance Claim\\Case Study 3 - Insurance Claims Case Study\\cust_demographics.csv\")"
   ]
  },
  {
   "cell_type": "code",
   "execution_count": 4,
   "id": "e62582ad",
   "metadata": {},
   "outputs": [
    {
     "data": {
      "text/html": [
       "<div>\n",
       "<style scoped>\n",
       "    .dataframe tbody tr th:only-of-type {\n",
       "        vertical-align: middle;\n",
       "    }\n",
       "\n",
       "    .dataframe tbody tr th {\n",
       "        vertical-align: top;\n",
       "    }\n",
       "\n",
       "    .dataframe thead th {\n",
       "        text-align: right;\n",
       "    }\n",
       "</style>\n",
       "<table border=\"1\" class=\"dataframe\">\n",
       "  <thead>\n",
       "    <tr style=\"text-align: right;\">\n",
       "      <th></th>\n",
       "      <th>claim_id</th>\n",
       "      <th>customer_id</th>\n",
       "      <th>incident_cause</th>\n",
       "      <th>claim_date</th>\n",
       "      <th>claim_area</th>\n",
       "      <th>police_report</th>\n",
       "      <th>claim_type</th>\n",
       "      <th>claim_amount</th>\n",
       "      <th>total_policy_claims</th>\n",
       "      <th>fraudulent</th>\n",
       "    </tr>\n",
       "  </thead>\n",
       "  <tbody>\n",
       "    <tr>\n",
       "      <th>0</th>\n",
       "      <td>54004764</td>\n",
       "      <td>21868593</td>\n",
       "      <td>Driver error</td>\n",
       "      <td>11/27/2017</td>\n",
       "      <td>Auto</td>\n",
       "      <td>No</td>\n",
       "      <td>Material only</td>\n",
       "      <td>$2980</td>\n",
       "      <td>1.0</td>\n",
       "      <td>No</td>\n",
       "    </tr>\n",
       "    <tr>\n",
       "      <th>1</th>\n",
       "      <td>33985796</td>\n",
       "      <td>75740424</td>\n",
       "      <td>Crime</td>\n",
       "      <td>10/03/2018</td>\n",
       "      <td>Home</td>\n",
       "      <td>Unknown</td>\n",
       "      <td>Material only</td>\n",
       "      <td>$2980</td>\n",
       "      <td>3.0</td>\n",
       "      <td>No</td>\n",
       "    </tr>\n",
       "    <tr>\n",
       "      <th>2</th>\n",
       "      <td>53522022</td>\n",
       "      <td>30308357</td>\n",
       "      <td>Other driver error</td>\n",
       "      <td>02/02/2018</td>\n",
       "      <td>Auto</td>\n",
       "      <td>No</td>\n",
       "      <td>Material only</td>\n",
       "      <td>$3369.5</td>\n",
       "      <td>1.0</td>\n",
       "      <td>Yes</td>\n",
       "    </tr>\n",
       "    <tr>\n",
       "      <th>3</th>\n",
       "      <td>13015401</td>\n",
       "      <td>47830476</td>\n",
       "      <td>Natural causes</td>\n",
       "      <td>06/17/2018</td>\n",
       "      <td>Auto</td>\n",
       "      <td>No</td>\n",
       "      <td>Material only</td>\n",
       "      <td>$1680</td>\n",
       "      <td>1.0</td>\n",
       "      <td>No</td>\n",
       "    </tr>\n",
       "    <tr>\n",
       "      <th>4</th>\n",
       "      <td>22890252</td>\n",
       "      <td>19269962</td>\n",
       "      <td>Crime</td>\n",
       "      <td>01/13/2018</td>\n",
       "      <td>Auto</td>\n",
       "      <td>No</td>\n",
       "      <td>Material only</td>\n",
       "      <td>$2680</td>\n",
       "      <td>1.0</td>\n",
       "      <td>No</td>\n",
       "    </tr>\n",
       "  </tbody>\n",
       "</table>\n",
       "</div>"
      ],
      "text/plain": [
       "   claim_id  customer_id      incident_cause  claim_date claim_area  \\\n",
       "0  54004764     21868593        Driver error  11/27/2017       Auto   \n",
       "1  33985796     75740424               Crime  10/03/2018       Home   \n",
       "2  53522022     30308357  Other driver error  02/02/2018       Auto   \n",
       "3  13015401     47830476      Natural causes  06/17/2018       Auto   \n",
       "4  22890252     19269962               Crime  01/13/2018       Auto   \n",
       "\n",
       "  police_report     claim_type claim_amount  total_policy_claims fraudulent  \n",
       "0            No  Material only        $2980                  1.0         No  \n",
       "1       Unknown  Material only        $2980                  3.0         No  \n",
       "2            No  Material only      $3369.5                  1.0        Yes  \n",
       "3            No  Material only        $1680                  1.0         No  \n",
       "4            No  Material only        $2680                  1.0         No  "
      ]
     },
     "execution_count": 4,
     "metadata": {},
     "output_type": "execute_result"
    }
   ],
   "source": [
    "claims.head()"
   ]
  },
  {
   "cell_type": "code",
   "execution_count": 5,
   "id": "438736c9",
   "metadata": {},
   "outputs": [
    {
     "data": {
      "text/html": [
       "<div>\n",
       "<style scoped>\n",
       "    .dataframe tbody tr th:only-of-type {\n",
       "        vertical-align: middle;\n",
       "    }\n",
       "\n",
       "    .dataframe tbody tr th {\n",
       "        vertical-align: top;\n",
       "    }\n",
       "\n",
       "    .dataframe thead th {\n",
       "        text-align: right;\n",
       "    }\n",
       "</style>\n",
       "<table border=\"1\" class=\"dataframe\">\n",
       "  <thead>\n",
       "    <tr style=\"text-align: right;\">\n",
       "      <th></th>\n",
       "      <th>CUST_ID</th>\n",
       "      <th>gender</th>\n",
       "      <th>DateOfBirth</th>\n",
       "      <th>State</th>\n",
       "      <th>Contact</th>\n",
       "      <th>Segment</th>\n",
       "    </tr>\n",
       "  </thead>\n",
       "  <tbody>\n",
       "    <tr>\n",
       "      <th>0</th>\n",
       "      <td>21868593</td>\n",
       "      <td>Female</td>\n",
       "      <td>12-Jan-79</td>\n",
       "      <td>VT</td>\n",
       "      <td>789-916-8172</td>\n",
       "      <td>Platinum</td>\n",
       "    </tr>\n",
       "    <tr>\n",
       "      <th>1</th>\n",
       "      <td>75740424</td>\n",
       "      <td>Female</td>\n",
       "      <td>13-Jan-70</td>\n",
       "      <td>ME</td>\n",
       "      <td>265-543-1264</td>\n",
       "      <td>Silver</td>\n",
       "    </tr>\n",
       "    <tr>\n",
       "      <th>2</th>\n",
       "      <td>30308357</td>\n",
       "      <td>Female</td>\n",
       "      <td>11-Mar-84</td>\n",
       "      <td>TN</td>\n",
       "      <td>798-631-4758</td>\n",
       "      <td>Silver</td>\n",
       "    </tr>\n",
       "    <tr>\n",
       "      <th>3</th>\n",
       "      <td>47830476</td>\n",
       "      <td>Female</td>\n",
       "      <td>01-May-86</td>\n",
       "      <td>MA</td>\n",
       "      <td>413-187-7945</td>\n",
       "      <td>Silver</td>\n",
       "    </tr>\n",
       "    <tr>\n",
       "      <th>4</th>\n",
       "      <td>19269962</td>\n",
       "      <td>Male</td>\n",
       "      <td>13-May-77</td>\n",
       "      <td>NV</td>\n",
       "      <td>956-871-8691</td>\n",
       "      <td>Gold</td>\n",
       "    </tr>\n",
       "  </tbody>\n",
       "</table>\n",
       "</div>"
      ],
      "text/plain": [
       "    CUST_ID  gender DateOfBirth State       Contact   Segment\n",
       "0  21868593  Female   12-Jan-79    VT  789-916-8172  Platinum\n",
       "1  75740424  Female   13-Jan-70    ME  265-543-1264    Silver\n",
       "2  30308357  Female   11-Mar-84    TN  798-631-4758    Silver\n",
       "3  47830476  Female   01-May-86    MA  413-187-7945    Silver\n",
       "4  19269962    Male   13-May-77    NV  956-871-8691      Gold"
      ]
     },
     "execution_count": 5,
     "metadata": {},
     "output_type": "execute_result"
    }
   ],
   "source": [
    "cust_demographics.head()"
   ]
  },
  {
   "cell_type": "code",
   "execution_count": 6,
   "id": "007a6472",
   "metadata": {},
   "outputs": [
    {
     "name": "stdout",
     "output_type": "stream",
     "text": [
      "<class 'pandas.core.frame.DataFrame'>\n",
      "RangeIndex: 1100 entries, 0 to 1099\n",
      "Data columns (total 10 columns):\n",
      " #   Column               Non-Null Count  Dtype  \n",
      "---  ------               --------------  -----  \n",
      " 0   claim_id             1100 non-null   int64  \n",
      " 1   customer_id          1100 non-null   int64  \n",
      " 2   incident_cause       1100 non-null   object \n",
      " 3   claim_date           1100 non-null   object \n",
      " 4   claim_area           1100 non-null   object \n",
      " 5   police_report        1100 non-null   object \n",
      " 6   claim_type           1100 non-null   object \n",
      " 7   claim_amount         1035 non-null   object \n",
      " 8   total_policy_claims  1090 non-null   float64\n",
      " 9   fraudulent           1100 non-null   object \n",
      "dtypes: float64(1), int64(2), object(7)\n",
      "memory usage: 86.1+ KB\n"
     ]
    }
   ],
   "source": [
    "claims.info()"
   ]
  },
  {
   "cell_type": "code",
   "execution_count": 7,
   "id": "df79d400",
   "metadata": {},
   "outputs": [
    {
     "name": "stdout",
     "output_type": "stream",
     "text": [
      "<class 'pandas.core.frame.DataFrame'>\n",
      "RangeIndex: 1085 entries, 0 to 1084\n",
      "Data columns (total 6 columns):\n",
      " #   Column       Non-Null Count  Dtype \n",
      "---  ------       --------------  ----- \n",
      " 0   CUST_ID      1085 non-null   int64 \n",
      " 1   gender       1085 non-null   object\n",
      " 2   DateOfBirth  1085 non-null   object\n",
      " 3   State        1085 non-null   object\n",
      " 4   Contact      1085 non-null   object\n",
      " 5   Segment      1085 non-null   object\n",
      "dtypes: int64(1), object(5)\n",
      "memory usage: 51.0+ KB\n"
     ]
    }
   ],
   "source": [
    "cust_demographics.info()"
   ]
  },
  {
   "cell_type": "code",
   "execution_count": 8,
   "id": "32bd9269",
   "metadata": {},
   "outputs": [],
   "source": [
    "cust_demographics.rename(columns={'CUST_ID': 'customer_id'}, inplace=True)"
   ]
  },
  {
   "cell_type": "code",
   "execution_count": 9,
   "id": "98c48af0",
   "metadata": {},
   "outputs": [
    {
     "data": {
      "text/html": [
       "<div>\n",
       "<style scoped>\n",
       "    .dataframe tbody tr th:only-of-type {\n",
       "        vertical-align: middle;\n",
       "    }\n",
       "\n",
       "    .dataframe tbody tr th {\n",
       "        vertical-align: top;\n",
       "    }\n",
       "\n",
       "    .dataframe thead th {\n",
       "        text-align: right;\n",
       "    }\n",
       "</style>\n",
       "<table border=\"1\" class=\"dataframe\">\n",
       "  <thead>\n",
       "    <tr style=\"text-align: right;\">\n",
       "      <th></th>\n",
       "      <th>customer_id</th>\n",
       "      <th>gender</th>\n",
       "      <th>DateOfBirth</th>\n",
       "      <th>State</th>\n",
       "      <th>Contact</th>\n",
       "      <th>Segment</th>\n",
       "    </tr>\n",
       "  </thead>\n",
       "  <tbody>\n",
       "    <tr>\n",
       "      <th>0</th>\n",
       "      <td>21868593</td>\n",
       "      <td>Female</td>\n",
       "      <td>12-Jan-79</td>\n",
       "      <td>VT</td>\n",
       "      <td>789-916-8172</td>\n",
       "      <td>Platinum</td>\n",
       "    </tr>\n",
       "    <tr>\n",
       "      <th>1</th>\n",
       "      <td>75740424</td>\n",
       "      <td>Female</td>\n",
       "      <td>13-Jan-70</td>\n",
       "      <td>ME</td>\n",
       "      <td>265-543-1264</td>\n",
       "      <td>Silver</td>\n",
       "    </tr>\n",
       "    <tr>\n",
       "      <th>2</th>\n",
       "      <td>30308357</td>\n",
       "      <td>Female</td>\n",
       "      <td>11-Mar-84</td>\n",
       "      <td>TN</td>\n",
       "      <td>798-631-4758</td>\n",
       "      <td>Silver</td>\n",
       "    </tr>\n",
       "  </tbody>\n",
       "</table>\n",
       "</div>"
      ],
      "text/plain": [
       "   customer_id  gender DateOfBirth State       Contact   Segment\n",
       "0     21868593  Female   12-Jan-79    VT  789-916-8172  Platinum\n",
       "1     75740424  Female   13-Jan-70    ME  265-543-1264    Silver\n",
       "2     30308357  Female   11-Mar-84    TN  798-631-4758    Silver"
      ]
     },
     "execution_count": 9,
     "metadata": {},
     "output_type": "execute_result"
    }
   ],
   "source": [
    "cust_demographics.head(3)"
   ]
  },
  {
   "cell_type": "code",
   "execution_count": 10,
   "id": "31329b2e",
   "metadata": {},
   "outputs": [],
   "source": [
    "cust_demographics_claims=pd.merge(left=cust_demographics, right=claims, on='customer_id')"
   ]
  },
  {
   "cell_type": "code",
   "execution_count": 11,
   "id": "4ea9b4bd",
   "metadata": {},
   "outputs": [
    {
     "data": {
      "text/html": [
       "<div>\n",
       "<style scoped>\n",
       "    .dataframe tbody tr th:only-of-type {\n",
       "        vertical-align: middle;\n",
       "    }\n",
       "\n",
       "    .dataframe tbody tr th {\n",
       "        vertical-align: top;\n",
       "    }\n",
       "\n",
       "    .dataframe thead th {\n",
       "        text-align: right;\n",
       "    }\n",
       "</style>\n",
       "<table border=\"1\" class=\"dataframe\">\n",
       "  <thead>\n",
       "    <tr style=\"text-align: right;\">\n",
       "      <th></th>\n",
       "      <th>customer_id</th>\n",
       "      <th>gender</th>\n",
       "      <th>DateOfBirth</th>\n",
       "      <th>State</th>\n",
       "      <th>Contact</th>\n",
       "      <th>Segment</th>\n",
       "      <th>claim_id</th>\n",
       "      <th>incident_cause</th>\n",
       "      <th>claim_date</th>\n",
       "      <th>claim_area</th>\n",
       "      <th>police_report</th>\n",
       "      <th>claim_type</th>\n",
       "      <th>claim_amount</th>\n",
       "      <th>total_policy_claims</th>\n",
       "      <th>fraudulent</th>\n",
       "    </tr>\n",
       "  </thead>\n",
       "  <tbody>\n",
       "    <tr>\n",
       "      <th>0</th>\n",
       "      <td>21868593</td>\n",
       "      <td>Female</td>\n",
       "      <td>12-Jan-79</td>\n",
       "      <td>VT</td>\n",
       "      <td>789-916-8172</td>\n",
       "      <td>Platinum</td>\n",
       "      <td>54004764</td>\n",
       "      <td>Driver error</td>\n",
       "      <td>11/27/2017</td>\n",
       "      <td>Auto</td>\n",
       "      <td>No</td>\n",
       "      <td>Material only</td>\n",
       "      <td>$2980</td>\n",
       "      <td>1.0</td>\n",
       "      <td>No</td>\n",
       "    </tr>\n",
       "    <tr>\n",
       "      <th>1</th>\n",
       "      <td>75740424</td>\n",
       "      <td>Female</td>\n",
       "      <td>13-Jan-70</td>\n",
       "      <td>ME</td>\n",
       "      <td>265-543-1264</td>\n",
       "      <td>Silver</td>\n",
       "      <td>33985796</td>\n",
       "      <td>Crime</td>\n",
       "      <td>10/03/2018</td>\n",
       "      <td>Home</td>\n",
       "      <td>Unknown</td>\n",
       "      <td>Material only</td>\n",
       "      <td>$2980</td>\n",
       "      <td>3.0</td>\n",
       "      <td>No</td>\n",
       "    </tr>\n",
       "    <tr>\n",
       "      <th>2</th>\n",
       "      <td>30308357</td>\n",
       "      <td>Female</td>\n",
       "      <td>11-Mar-84</td>\n",
       "      <td>TN</td>\n",
       "      <td>798-631-4758</td>\n",
       "      <td>Silver</td>\n",
       "      <td>53522022</td>\n",
       "      <td>Other driver error</td>\n",
       "      <td>02/02/2018</td>\n",
       "      <td>Auto</td>\n",
       "      <td>No</td>\n",
       "      <td>Material only</td>\n",
       "      <td>$3369.5</td>\n",
       "      <td>1.0</td>\n",
       "      <td>Yes</td>\n",
       "    </tr>\n",
       "    <tr>\n",
       "      <th>3</th>\n",
       "      <td>30308357</td>\n",
       "      <td>Female</td>\n",
       "      <td>11-Mar-84</td>\n",
       "      <td>TN</td>\n",
       "      <td>798-631-4758</td>\n",
       "      <td>Silver</td>\n",
       "      <td>63017412</td>\n",
       "      <td>Driver error</td>\n",
       "      <td>04/04/2018</td>\n",
       "      <td>Auto</td>\n",
       "      <td>No</td>\n",
       "      <td>Material only</td>\n",
       "      <td>$1950</td>\n",
       "      <td>6.0</td>\n",
       "      <td>No</td>\n",
       "    </tr>\n",
       "    <tr>\n",
       "      <th>4</th>\n",
       "      <td>47830476</td>\n",
       "      <td>Female</td>\n",
       "      <td>01-May-86</td>\n",
       "      <td>MA</td>\n",
       "      <td>413-187-7945</td>\n",
       "      <td>Silver</td>\n",
       "      <td>13015401</td>\n",
       "      <td>Natural causes</td>\n",
       "      <td>06/17/2018</td>\n",
       "      <td>Auto</td>\n",
       "      <td>No</td>\n",
       "      <td>Material only</td>\n",
       "      <td>$1680</td>\n",
       "      <td>1.0</td>\n",
       "      <td>No</td>\n",
       "    </tr>\n",
       "  </tbody>\n",
       "</table>\n",
       "</div>"
      ],
      "text/plain": [
       "   customer_id  gender DateOfBirth State       Contact   Segment  claim_id  \\\n",
       "0     21868593  Female   12-Jan-79    VT  789-916-8172  Platinum  54004764   \n",
       "1     75740424  Female   13-Jan-70    ME  265-543-1264    Silver  33985796   \n",
       "2     30308357  Female   11-Mar-84    TN  798-631-4758    Silver  53522022   \n",
       "3     30308357  Female   11-Mar-84    TN  798-631-4758    Silver  63017412   \n",
       "4     47830476  Female   01-May-86    MA  413-187-7945    Silver  13015401   \n",
       "\n",
       "       incident_cause  claim_date claim_area police_report     claim_type  \\\n",
       "0        Driver error  11/27/2017       Auto            No  Material only   \n",
       "1               Crime  10/03/2018       Home       Unknown  Material only   \n",
       "2  Other driver error  02/02/2018       Auto            No  Material only   \n",
       "3        Driver error  04/04/2018       Auto            No  Material only   \n",
       "4      Natural causes  06/17/2018       Auto            No  Material only   \n",
       "\n",
       "  claim_amount  total_policy_claims fraudulent  \n",
       "0        $2980                  1.0         No  \n",
       "1        $2980                  3.0         No  \n",
       "2      $3369.5                  1.0        Yes  \n",
       "3        $1950                  6.0         No  \n",
       "4        $1680                  1.0         No  "
      ]
     },
     "execution_count": 11,
     "metadata": {},
     "output_type": "execute_result"
    }
   ],
   "source": [
    "cust_demographics_claims.head(5)"
   ]
  },
  {
   "cell_type": "markdown",
   "id": "d0bd01e2",
   "metadata": {},
   "source": [
    "### 2. Perform a data audit for the datatypes and find out if there are any mismatch within the current datatypes of the columns and their business significance."
   ]
  },
  {
   "cell_type": "code",
   "execution_count": 12,
   "id": "5ee85d77",
   "metadata": {},
   "outputs": [
    {
     "name": "stdout",
     "output_type": "stream",
     "text": [
      "<class 'pandas.core.frame.DataFrame'>\n",
      "Int64Index: 1085 entries, 0 to 1084\n",
      "Data columns (total 15 columns):\n",
      " #   Column               Non-Null Count  Dtype  \n",
      "---  ------               --------------  -----  \n",
      " 0   customer_id          1085 non-null   int64  \n",
      " 1   gender               1085 non-null   object \n",
      " 2   DateOfBirth          1085 non-null   object \n",
      " 3   State                1085 non-null   object \n",
      " 4   Contact              1085 non-null   object \n",
      " 5   Segment              1085 non-null   object \n",
      " 6   claim_id             1085 non-null   int64  \n",
      " 7   incident_cause       1085 non-null   object \n",
      " 8   claim_date           1085 non-null   object \n",
      " 9   claim_area           1085 non-null   object \n",
      " 10  police_report        1085 non-null   object \n",
      " 11  claim_type           1085 non-null   object \n",
      " 12  claim_amount         1020 non-null   object \n",
      " 13  total_policy_claims  1075 non-null   float64\n",
      " 14  fraudulent           1085 non-null   object \n",
      "dtypes: float64(1), int64(2), object(12)\n",
      "memory usage: 135.6+ KB\n"
     ]
    }
   ],
   "source": [
    "cust_demographics_claims.info()"
   ]
  },
  {
   "cell_type": "code",
   "execution_count": 13,
   "id": "2f23e25d",
   "metadata": {},
   "outputs": [],
   "source": [
    "cust_demographics_claims['DateOfBirth']=pd.to_datetime(cust_demographics_claims.DateOfBirth, format='%d-%b-%y')"
   ]
  },
  {
   "cell_type": "code",
   "execution_count": 14,
   "id": "74c9a6cb",
   "metadata": {},
   "outputs": [],
   "source": [
    "cust_demographics_claims['claim_date']=pd.to_datetime(cust_demographics_claims.claim_date, format='%m/%d/%Y')"
   ]
  },
  {
   "cell_type": "code",
   "execution_count": 15,
   "id": "30f6e798",
   "metadata": {},
   "outputs": [
    {
     "name": "stdout",
     "output_type": "stream",
     "text": [
      "<class 'pandas.core.frame.DataFrame'>\n",
      "Int64Index: 1085 entries, 0 to 1084\n",
      "Data columns (total 15 columns):\n",
      " #   Column               Non-Null Count  Dtype         \n",
      "---  ------               --------------  -----         \n",
      " 0   customer_id          1085 non-null   int64         \n",
      " 1   gender               1085 non-null   object        \n",
      " 2   DateOfBirth          1085 non-null   datetime64[ns]\n",
      " 3   State                1085 non-null   object        \n",
      " 4   Contact              1085 non-null   object        \n",
      " 5   Segment              1085 non-null   object        \n",
      " 6   claim_id             1085 non-null   int64         \n",
      " 7   incident_cause       1085 non-null   object        \n",
      " 8   claim_date           1085 non-null   datetime64[ns]\n",
      " 9   claim_area           1085 non-null   object        \n",
      " 10  police_report        1085 non-null   object        \n",
      " 11  claim_type           1085 non-null   object        \n",
      " 12  claim_amount         1020 non-null   object        \n",
      " 13  total_policy_claims  1075 non-null   float64       \n",
      " 14  fraudulent           1085 non-null   object        \n",
      "dtypes: datetime64[ns](2), float64(1), int64(2), object(10)\n",
      "memory usage: 135.6+ KB\n"
     ]
    }
   ],
   "source": [
    "cust_demographics_claims.info()"
   ]
  },
  {
   "cell_type": "markdown",
   "id": "0b31d183",
   "metadata": {},
   "source": [
    "### 3. Convert the column claim_amount to numeric. Use the appropriate modules/attributes to remove the $ sign"
   ]
  },
  {
   "cell_type": "code",
   "execution_count": 16,
   "id": "5d902327",
   "metadata": {},
   "outputs": [
    {
     "name": "stderr",
     "output_type": "stream",
     "text": [
      "C:\\Users\\NSS\\AppData\\Local\\Temp\\ipykernel_18924\\2533697354.py:1: FutureWarning: The default value of regex will change from True to False in a future version. In addition, single character regular expressions will *not* be treated as literal strings when regex=True.\n",
      "  cust_demographics_claims['claim_amount']=cust_demographics_claims['claim_amount'].str.replace(\"$\", '')\n"
     ]
    }
   ],
   "source": [
    "cust_demographics_claims['claim_amount']=cust_demographics_claims['claim_amount'].str.replace(\"$\", '')"
   ]
  },
  {
   "cell_type": "code",
   "execution_count": 17,
   "id": "4ec29e54",
   "metadata": {},
   "outputs": [
    {
     "data": {
      "text/html": [
       "<div>\n",
       "<style scoped>\n",
       "    .dataframe tbody tr th:only-of-type {\n",
       "        vertical-align: middle;\n",
       "    }\n",
       "\n",
       "    .dataframe tbody tr th {\n",
       "        vertical-align: top;\n",
       "    }\n",
       "\n",
       "    .dataframe thead th {\n",
       "        text-align: right;\n",
       "    }\n",
       "</style>\n",
       "<table border=\"1\" class=\"dataframe\">\n",
       "  <thead>\n",
       "    <tr style=\"text-align: right;\">\n",
       "      <th></th>\n",
       "      <th>customer_id</th>\n",
       "      <th>gender</th>\n",
       "      <th>DateOfBirth</th>\n",
       "      <th>State</th>\n",
       "      <th>Contact</th>\n",
       "      <th>Segment</th>\n",
       "      <th>claim_id</th>\n",
       "      <th>incident_cause</th>\n",
       "      <th>claim_date</th>\n",
       "      <th>claim_area</th>\n",
       "      <th>police_report</th>\n",
       "      <th>claim_type</th>\n",
       "      <th>claim_amount</th>\n",
       "      <th>total_policy_claims</th>\n",
       "      <th>fraudulent</th>\n",
       "    </tr>\n",
       "  </thead>\n",
       "  <tbody>\n",
       "    <tr>\n",
       "      <th>0</th>\n",
       "      <td>21868593</td>\n",
       "      <td>Female</td>\n",
       "      <td>1979-01-12</td>\n",
       "      <td>VT</td>\n",
       "      <td>789-916-8172</td>\n",
       "      <td>Platinum</td>\n",
       "      <td>54004764</td>\n",
       "      <td>Driver error</td>\n",
       "      <td>2017-11-27</td>\n",
       "      <td>Auto</td>\n",
       "      <td>No</td>\n",
       "      <td>Material only</td>\n",
       "      <td>2980</td>\n",
       "      <td>1.0</td>\n",
       "      <td>No</td>\n",
       "    </tr>\n",
       "    <tr>\n",
       "      <th>1</th>\n",
       "      <td>75740424</td>\n",
       "      <td>Female</td>\n",
       "      <td>1970-01-13</td>\n",
       "      <td>ME</td>\n",
       "      <td>265-543-1264</td>\n",
       "      <td>Silver</td>\n",
       "      <td>33985796</td>\n",
       "      <td>Crime</td>\n",
       "      <td>2018-10-03</td>\n",
       "      <td>Home</td>\n",
       "      <td>Unknown</td>\n",
       "      <td>Material only</td>\n",
       "      <td>2980</td>\n",
       "      <td>3.0</td>\n",
       "      <td>No</td>\n",
       "    </tr>\n",
       "    <tr>\n",
       "      <th>2</th>\n",
       "      <td>30308357</td>\n",
       "      <td>Female</td>\n",
       "      <td>1984-03-11</td>\n",
       "      <td>TN</td>\n",
       "      <td>798-631-4758</td>\n",
       "      <td>Silver</td>\n",
       "      <td>53522022</td>\n",
       "      <td>Other driver error</td>\n",
       "      <td>2018-02-02</td>\n",
       "      <td>Auto</td>\n",
       "      <td>No</td>\n",
       "      <td>Material only</td>\n",
       "      <td>3369.5</td>\n",
       "      <td>1.0</td>\n",
       "      <td>Yes</td>\n",
       "    </tr>\n",
       "    <tr>\n",
       "      <th>3</th>\n",
       "      <td>30308357</td>\n",
       "      <td>Female</td>\n",
       "      <td>1984-03-11</td>\n",
       "      <td>TN</td>\n",
       "      <td>798-631-4758</td>\n",
       "      <td>Silver</td>\n",
       "      <td>63017412</td>\n",
       "      <td>Driver error</td>\n",
       "      <td>2018-04-04</td>\n",
       "      <td>Auto</td>\n",
       "      <td>No</td>\n",
       "      <td>Material only</td>\n",
       "      <td>1950</td>\n",
       "      <td>6.0</td>\n",
       "      <td>No</td>\n",
       "    </tr>\n",
       "    <tr>\n",
       "      <th>4</th>\n",
       "      <td>47830476</td>\n",
       "      <td>Female</td>\n",
       "      <td>1986-05-01</td>\n",
       "      <td>MA</td>\n",
       "      <td>413-187-7945</td>\n",
       "      <td>Silver</td>\n",
       "      <td>13015401</td>\n",
       "      <td>Natural causes</td>\n",
       "      <td>2018-06-17</td>\n",
       "      <td>Auto</td>\n",
       "      <td>No</td>\n",
       "      <td>Material only</td>\n",
       "      <td>1680</td>\n",
       "      <td>1.0</td>\n",
       "      <td>No</td>\n",
       "    </tr>\n",
       "  </tbody>\n",
       "</table>\n",
       "</div>"
      ],
      "text/plain": [
       "   customer_id  gender DateOfBirth State       Contact   Segment  claim_id  \\\n",
       "0     21868593  Female  1979-01-12    VT  789-916-8172  Platinum  54004764   \n",
       "1     75740424  Female  1970-01-13    ME  265-543-1264    Silver  33985796   \n",
       "2     30308357  Female  1984-03-11    TN  798-631-4758    Silver  53522022   \n",
       "3     30308357  Female  1984-03-11    TN  798-631-4758    Silver  63017412   \n",
       "4     47830476  Female  1986-05-01    MA  413-187-7945    Silver  13015401   \n",
       "\n",
       "       incident_cause claim_date claim_area police_report     claim_type  \\\n",
       "0        Driver error 2017-11-27       Auto            No  Material only   \n",
       "1               Crime 2018-10-03       Home       Unknown  Material only   \n",
       "2  Other driver error 2018-02-02       Auto            No  Material only   \n",
       "3        Driver error 2018-04-04       Auto            No  Material only   \n",
       "4      Natural causes 2018-06-17       Auto            No  Material only   \n",
       "\n",
       "  claim_amount  total_policy_claims fraudulent  \n",
       "0         2980                  1.0         No  \n",
       "1         2980                  3.0         No  \n",
       "2       3369.5                  1.0        Yes  \n",
       "3         1950                  6.0         No  \n",
       "4         1680                  1.0         No  "
      ]
     },
     "execution_count": 17,
     "metadata": {},
     "output_type": "execute_result"
    }
   ],
   "source": [
    "cust_demographics_claims.head(5)"
   ]
  },
  {
   "cell_type": "code",
   "execution_count": 18,
   "id": "e4a315b2",
   "metadata": {},
   "outputs": [],
   "source": [
    "cust_demographics_claims['claim_amount']=pd.to_numeric(cust_demographics_claims.claim_amount)"
   ]
  },
  {
   "cell_type": "code",
   "execution_count": 19,
   "id": "866a63f4",
   "metadata": {},
   "outputs": [
    {
     "name": "stdout",
     "output_type": "stream",
     "text": [
      "<class 'pandas.core.frame.DataFrame'>\n",
      "Int64Index: 1085 entries, 0 to 1084\n",
      "Data columns (total 15 columns):\n",
      " #   Column               Non-Null Count  Dtype         \n",
      "---  ------               --------------  -----         \n",
      " 0   customer_id          1085 non-null   int64         \n",
      " 1   gender               1085 non-null   object        \n",
      " 2   DateOfBirth          1085 non-null   datetime64[ns]\n",
      " 3   State                1085 non-null   object        \n",
      " 4   Contact              1085 non-null   object        \n",
      " 5   Segment              1085 non-null   object        \n",
      " 6   claim_id             1085 non-null   int64         \n",
      " 7   incident_cause       1085 non-null   object        \n",
      " 8   claim_date           1085 non-null   datetime64[ns]\n",
      " 9   claim_area           1085 non-null   object        \n",
      " 10  police_report        1085 non-null   object        \n",
      " 11  claim_type           1085 non-null   object        \n",
      " 12  claim_amount         1020 non-null   float64       \n",
      " 13  total_policy_claims  1075 non-null   float64       \n",
      " 14  fraudulent           1085 non-null   object        \n",
      "dtypes: datetime64[ns](2), float64(2), int64(2), object(9)\n",
      "memory usage: 135.6+ KB\n"
     ]
    }
   ],
   "source": [
    "cust_demographics_claims.info()"
   ]
  },
  {
   "cell_type": "markdown",
   "id": "5aa9b795",
   "metadata": {},
   "source": [
    "### 4. Of all the injury claims, some of them have gone unreported with the police. Create an alert flag (1,0) for all such claims."
   ]
  },
  {
   "cell_type": "code",
   "execution_count": 20,
   "id": "c44f68e4",
   "metadata": {},
   "outputs": [],
   "source": [
    "cust_demographics_claims['police_report']=np.where(cust_demographics_claims.police_report=='Unknown', 'No', 'Yes')"
   ]
  },
  {
   "cell_type": "code",
   "execution_count": 21,
   "id": "aac06574",
   "metadata": {},
   "outputs": [
    {
     "data": {
      "text/plain": [
       "0       Yes\n",
       "1        No\n",
       "2       Yes\n",
       "3       Yes\n",
       "4       Yes\n",
       "       ... \n",
       "1080    Yes\n",
       "1081    Yes\n",
       "1082    Yes\n",
       "1083    Yes\n",
       "1084    Yes\n",
       "Name: police_report, Length: 1085, dtype: object"
      ]
     },
     "execution_count": 21,
     "metadata": {},
     "output_type": "execute_result"
    }
   ],
   "source": [
    "cust_demographics_claims['police_report']"
   ]
  },
  {
   "cell_type": "code",
   "execution_count": 22,
   "id": "afec260d",
   "metadata": {},
   "outputs": [],
   "source": [
    "cust_demographics_claims['flag']=np.where(cust_demographics_claims.police_report=='No', 1, 0)"
   ]
  },
  {
   "cell_type": "code",
   "execution_count": 23,
   "id": "deaebb29",
   "metadata": {},
   "outputs": [
    {
     "data": {
      "text/plain": [
       "0       0\n",
       "1       1\n",
       "2       0\n",
       "3       0\n",
       "4       0\n",
       "       ..\n",
       "1080    0\n",
       "1081    0\n",
       "1082    0\n",
       "1083    0\n",
       "1084    0\n",
       "Name: flag, Length: 1085, dtype: int32"
      ]
     },
     "execution_count": 23,
     "metadata": {},
     "output_type": "execute_result"
    }
   ],
   "source": [
    "cust_demographics_claims['flag']"
   ]
  },
  {
   "cell_type": "markdown",
   "id": "6ff588b3",
   "metadata": {},
   "source": [
    "### 5. One customer can claim for insurance more than once and in each claim, multiple categories of claims can be involved. However, customer ID should remain unique.\n",
    "\n",
    "### Retain the most recent observation and delete any duplicated records in the data based on the customer ID column."
   ]
  },
  {
   "cell_type": "code",
   "execution_count": 24,
   "id": "edace17e",
   "metadata": {},
   "outputs": [
    {
     "data": {
      "text/plain": [
       "53539195    2\n",
       "30308357    2\n",
       "47830476    2\n",
       "19269962    2\n",
       "21831191    2\n",
       "           ..\n",
       "96431710    1\n",
       "13059025    1\n",
       "49481916    1\n",
       "10956208    1\n",
       "61575264    1\n",
       "Name: customer_id, Length: 1078, dtype: int64"
      ]
     },
     "execution_count": 24,
     "metadata": {},
     "output_type": "execute_result"
    }
   ],
   "source": [
    "cust_demographics_claims.customer_id.value_counts()"
   ]
  },
  {
   "cell_type": "code",
   "execution_count": 25,
   "id": "d3d3ce06",
   "metadata": {},
   "outputs": [
    {
     "data": {
      "text/html": [
       "<div>\n",
       "<style scoped>\n",
       "    .dataframe tbody tr th:only-of-type {\n",
       "        vertical-align: middle;\n",
       "    }\n",
       "\n",
       "    .dataframe tbody tr th {\n",
       "        vertical-align: top;\n",
       "    }\n",
       "\n",
       "    .dataframe thead th {\n",
       "        text-align: right;\n",
       "    }\n",
       "</style>\n",
       "<table border=\"1\" class=\"dataframe\">\n",
       "  <thead>\n",
       "    <tr style=\"text-align: right;\">\n",
       "      <th></th>\n",
       "      <th>customer_id</th>\n",
       "      <th>gender</th>\n",
       "      <th>DateOfBirth</th>\n",
       "      <th>State</th>\n",
       "      <th>Contact</th>\n",
       "      <th>Segment</th>\n",
       "      <th>claim_id</th>\n",
       "      <th>incident_cause</th>\n",
       "      <th>claim_date</th>\n",
       "      <th>claim_area</th>\n",
       "      <th>police_report</th>\n",
       "      <th>claim_type</th>\n",
       "      <th>claim_amount</th>\n",
       "      <th>total_policy_claims</th>\n",
       "      <th>fraudulent</th>\n",
       "      <th>flag</th>\n",
       "    </tr>\n",
       "  </thead>\n",
       "  <tbody>\n",
       "    <tr>\n",
       "      <th>3</th>\n",
       "      <td>30308357</td>\n",
       "      <td>Female</td>\n",
       "      <td>1984-03-11</td>\n",
       "      <td>TN</td>\n",
       "      <td>798-631-4758</td>\n",
       "      <td>Silver</td>\n",
       "      <td>63017412</td>\n",
       "      <td>Driver error</td>\n",
       "      <td>2018-04-04</td>\n",
       "      <td>Auto</td>\n",
       "      <td>Yes</td>\n",
       "      <td>Material only</td>\n",
       "      <td>1950.0</td>\n",
       "      <td>6.0</td>\n",
       "      <td>No</td>\n",
       "      <td>0</td>\n",
       "    </tr>\n",
       "    <tr>\n",
       "      <th>5</th>\n",
       "      <td>47830476</td>\n",
       "      <td>Female</td>\n",
       "      <td>1986-05-01</td>\n",
       "      <td>MA</td>\n",
       "      <td>413-187-7945</td>\n",
       "      <td>Silver</td>\n",
       "      <td>91609100</td>\n",
       "      <td>Natural causes</td>\n",
       "      <td>2017-04-12</td>\n",
       "      <td>Auto</td>\n",
       "      <td>No</td>\n",
       "      <td>Material only</td>\n",
       "      <td>1440.0</td>\n",
       "      <td>1.0</td>\n",
       "      <td>No</td>\n",
       "      <td>1</td>\n",
       "    </tr>\n",
       "    <tr>\n",
       "      <th>7</th>\n",
       "      <td>19269962</td>\n",
       "      <td>Male</td>\n",
       "      <td>1977-05-13</td>\n",
       "      <td>NV</td>\n",
       "      <td>956-871-8691</td>\n",
       "      <td>Gold</td>\n",
       "      <td>39219616</td>\n",
       "      <td>Other causes</td>\n",
       "      <td>2018-09-26</td>\n",
       "      <td>Auto</td>\n",
       "      <td>Yes</td>\n",
       "      <td>Material only</td>\n",
       "      <td>2240.0</td>\n",
       "      <td>2.0</td>\n",
       "      <td>No</td>\n",
       "      <td>0</td>\n",
       "    </tr>\n",
       "    <tr>\n",
       "      <th>9</th>\n",
       "      <td>21831191</td>\n",
       "      <td>Male</td>\n",
       "      <td>1977-05-17</td>\n",
       "      <td>NH</td>\n",
       "      <td>419-712-8513</td>\n",
       "      <td>Gold</td>\n",
       "      <td>91475471</td>\n",
       "      <td>Driver error</td>\n",
       "      <td>2018-02-09</td>\n",
       "      <td>Auto</td>\n",
       "      <td>No</td>\n",
       "      <td>Material and injury</td>\n",
       "      <td>36810.0</td>\n",
       "      <td>1.0</td>\n",
       "      <td>No</td>\n",
       "      <td>1</td>\n",
       "    </tr>\n",
       "    <tr>\n",
       "      <th>622</th>\n",
       "      <td>84147585</td>\n",
       "      <td>Male</td>\n",
       "      <td>1972-10-18</td>\n",
       "      <td>AK</td>\n",
       "      <td>743-569-4783</td>\n",
       "      <td>Gold</td>\n",
       "      <td>78221963</td>\n",
       "      <td>Driver error</td>\n",
       "      <td>2018-04-10</td>\n",
       "      <td>Auto</td>\n",
       "      <td>Yes</td>\n",
       "      <td>Injury only</td>\n",
       "      <td>14430.0</td>\n",
       "      <td>4.0</td>\n",
       "      <td>No</td>\n",
       "      <td>0</td>\n",
       "    </tr>\n",
       "    <tr>\n",
       "      <th>624</th>\n",
       "      <td>85357756</td>\n",
       "      <td>Male</td>\n",
       "      <td>1970-01-02</td>\n",
       "      <td>PA</td>\n",
       "      <td>915-698-3649</td>\n",
       "      <td>Platinum</td>\n",
       "      <td>1654201</td>\n",
       "      <td>Driver error</td>\n",
       "      <td>2018-06-23</td>\n",
       "      <td>Auto</td>\n",
       "      <td>No</td>\n",
       "      <td>Material only</td>\n",
       "      <td>2510.0</td>\n",
       "      <td>1.0</td>\n",
       "      <td>No</td>\n",
       "      <td>1</td>\n",
       "    </tr>\n",
       "    <tr>\n",
       "      <th>626</th>\n",
       "      <td>53539195</td>\n",
       "      <td>Male</td>\n",
       "      <td>1989-10-02</td>\n",
       "      <td>NV</td>\n",
       "      <td>914-342-8239</td>\n",
       "      <td>Gold</td>\n",
       "      <td>41779510</td>\n",
       "      <td>Driver error</td>\n",
       "      <td>2018-10-03</td>\n",
       "      <td>Home</td>\n",
       "      <td>Yes</td>\n",
       "      <td>Injury only</td>\n",
       "      <td>25040.0</td>\n",
       "      <td>1.0</td>\n",
       "      <td>No</td>\n",
       "      <td>0</td>\n",
       "    </tr>\n",
       "  </tbody>\n",
       "</table>\n",
       "</div>"
      ],
      "text/plain": [
       "     customer_id  gender DateOfBirth State       Contact   Segment  claim_id  \\\n",
       "3       30308357  Female  1984-03-11    TN  798-631-4758    Silver  63017412   \n",
       "5       47830476  Female  1986-05-01    MA  413-187-7945    Silver  91609100   \n",
       "7       19269962    Male  1977-05-13    NV  956-871-8691      Gold  39219616   \n",
       "9       21831191    Male  1977-05-17    NH  419-712-8513      Gold  91475471   \n",
       "622     84147585    Male  1972-10-18    AK  743-569-4783      Gold  78221963   \n",
       "624     85357756    Male  1970-01-02    PA  915-698-3649  Platinum   1654201   \n",
       "626     53539195    Male  1989-10-02    NV  914-342-8239      Gold  41779510   \n",
       "\n",
       "     incident_cause claim_date claim_area police_report           claim_type  \\\n",
       "3      Driver error 2018-04-04       Auto           Yes        Material only   \n",
       "5    Natural causes 2017-04-12       Auto            No        Material only   \n",
       "7      Other causes 2018-09-26       Auto           Yes        Material only   \n",
       "9      Driver error 2018-02-09       Auto            No  Material and injury   \n",
       "622    Driver error 2018-04-10       Auto           Yes          Injury only   \n",
       "624    Driver error 2018-06-23       Auto            No        Material only   \n",
       "626    Driver error 2018-10-03       Home           Yes          Injury only   \n",
       "\n",
       "     claim_amount  total_policy_claims fraudulent  flag  \n",
       "3          1950.0                  6.0         No     0  \n",
       "5          1440.0                  1.0         No     1  \n",
       "7          2240.0                  2.0         No     0  \n",
       "9         36810.0                  1.0         No     1  \n",
       "622       14430.0                  4.0         No     0  \n",
       "624        2510.0                  1.0         No     1  \n",
       "626       25040.0                  1.0         No     0  "
      ]
     },
     "execution_count": 25,
     "metadata": {},
     "output_type": "execute_result"
    }
   ],
   "source": [
    "cust_demographics_claims[cust_demographics_claims.customer_id.duplicated()]"
   ]
  },
  {
   "cell_type": "code",
   "execution_count": 26,
   "id": "5494cbe1",
   "metadata": {},
   "outputs": [],
   "source": [
    "cust_demographics_claims.sort_values(by='claim_date', ascending=False, inplace=True)"
   ]
  },
  {
   "cell_type": "code",
   "execution_count": 27,
   "id": "c69a6d46",
   "metadata": {},
   "outputs": [],
   "source": [
    "cust_demographics_claims.drop_duplicates(subset='customer_id', keep='first', inplace=True)"
   ]
  },
  {
   "cell_type": "code",
   "execution_count": 28,
   "id": "9bc415a5",
   "metadata": {},
   "outputs": [
    {
     "data": {
      "text/plain": [
       "286     False\n",
       "354     False\n",
       "1055    False\n",
       "941     False\n",
       "322     False\n",
       "        ...  \n",
       "231     False\n",
       "905     False\n",
       "195     False\n",
       "177     False\n",
       "181     False\n",
       "Name: customer_id, Length: 1078, dtype: bool"
      ]
     },
     "execution_count": 28,
     "metadata": {},
     "output_type": "execute_result"
    }
   ],
   "source": [
    "cust_demographics_claims.customer_id.duplicated()"
   ]
  },
  {
   "cell_type": "markdown",
   "id": "7c452397",
   "metadata": {},
   "source": [
    "### 6. Check for missing values and impute the missing values with an appropriate value. (mean for continuous and mode for categorical)"
   ]
  },
  {
   "cell_type": "code",
   "execution_count": 29,
   "id": "f6fbdaa4",
   "metadata": {},
   "outputs": [
    {
     "data": {
      "text/plain": [
       "customer_id             0\n",
       "gender                  0\n",
       "DateOfBirth             0\n",
       "State                   0\n",
       "Contact                 0\n",
       "Segment                 0\n",
       "claim_id                0\n",
       "incident_cause          0\n",
       "claim_date              0\n",
       "claim_area              0\n",
       "police_report           0\n",
       "claim_type              0\n",
       "claim_amount           65\n",
       "total_policy_claims    10\n",
       "fraudulent              0\n",
       "flag                    0\n",
       "dtype: int64"
      ]
     },
     "execution_count": 29,
     "metadata": {},
     "output_type": "execute_result"
    }
   ],
   "source": [
    "cust_demographics_claims.isna().sum()"
   ]
  },
  {
   "cell_type": "code",
   "execution_count": 30,
   "id": "b3dbbfcd",
   "metadata": {},
   "outputs": [],
   "source": [
    "cust_demographics_claims.claim_amount.fillna(cust_demographics_claims.claim_amount.mean(), inplace=True)"
   ]
  },
  {
   "cell_type": "code",
   "execution_count": 31,
   "id": "50c99400",
   "metadata": {},
   "outputs": [
    {
     "data": {
      "text/plain": [
       "customer_id            1078\n",
       "gender                    2\n",
       "DateOfBirth            1078\n",
       "State                    50\n",
       "Contact                1078\n",
       "Segment                   3\n",
       "claim_id               1078\n",
       "incident_cause            5\n",
       "claim_date              100\n",
       "claim_area                2\n",
       "police_report             2\n",
       "claim_type                3\n",
       "claim_amount            675\n",
       "total_policy_claims       8\n",
       "fraudulent                2\n",
       "flag                      2\n",
       "dtype: int64"
      ]
     },
     "execution_count": 31,
     "metadata": {},
     "output_type": "execute_result"
    }
   ],
   "source": [
    "cust_demographics_claims.nunique()"
   ]
  },
  {
   "cell_type": "code",
   "execution_count": 32,
   "id": "4d1c58a8",
   "metadata": {},
   "outputs": [],
   "source": [
    "cust_demographics_claims.sort_values(by='total_policy_claims', ascending=True, inplace=True)"
   ]
  },
  {
   "cell_type": "code",
   "execution_count": 33,
   "id": "73d886aa",
   "metadata": {},
   "outputs": [],
   "source": [
    "cust_demographics_claims.total_policy_claims.fillna(cust_demographics_claims.total_policy_claims.mode(), inplace=True)"
   ]
  },
  {
   "cell_type": "markdown",
   "id": "75965696",
   "metadata": {},
   "source": [
    "### 7. Calculate the age of customers in years. Based on the age, categorize the customers according to the below criteria\n",
    "\n",
    "                        Children < 18\n",
    "                        Youth 18-30\n",
    "                        Adult 30-60\n",
    "                        Senior > 60"
   ]
  },
  {
   "cell_type": "code",
   "execution_count": 34,
   "id": "3609d317",
   "metadata": {},
   "outputs": [
    {
     "data": {
      "text/html": [
       "<div>\n",
       "<style scoped>\n",
       "    .dataframe tbody tr th:only-of-type {\n",
       "        vertical-align: middle;\n",
       "    }\n",
       "\n",
       "    .dataframe tbody tr th {\n",
       "        vertical-align: top;\n",
       "    }\n",
       "\n",
       "    .dataframe thead th {\n",
       "        text-align: right;\n",
       "    }\n",
       "</style>\n",
       "<table border=\"1\" class=\"dataframe\">\n",
       "  <thead>\n",
       "    <tr style=\"text-align: right;\">\n",
       "      <th></th>\n",
       "      <th>customer_id</th>\n",
       "      <th>gender</th>\n",
       "      <th>DateOfBirth</th>\n",
       "      <th>State</th>\n",
       "      <th>Contact</th>\n",
       "      <th>Segment</th>\n",
       "      <th>claim_id</th>\n",
       "      <th>incident_cause</th>\n",
       "      <th>claim_date</th>\n",
       "      <th>claim_area</th>\n",
       "      <th>police_report</th>\n",
       "      <th>claim_type</th>\n",
       "      <th>claim_amount</th>\n",
       "      <th>total_policy_claims</th>\n",
       "      <th>fraudulent</th>\n",
       "      <th>flag</th>\n",
       "    </tr>\n",
       "  </thead>\n",
       "  <tbody>\n",
       "    <tr>\n",
       "      <th>286</th>\n",
       "      <td>93915431</td>\n",
       "      <td>Male</td>\n",
       "      <td>2067-09-08</td>\n",
       "      <td>ME</td>\n",
       "      <td>134-785-1687</td>\n",
       "      <td>Gold</td>\n",
       "      <td>99775483</td>\n",
       "      <td>Other causes</td>\n",
       "      <td>2018-10-30</td>\n",
       "      <td>Auto</td>\n",
       "      <td>Yes</td>\n",
       "      <td>Material and injury</td>\n",
       "      <td>42124.5</td>\n",
       "      <td>1.0</td>\n",
       "      <td>Yes</td>\n",
       "      <td>0</td>\n",
       "    </tr>\n",
       "    <tr>\n",
       "      <th>1058</th>\n",
       "      <td>56425562</td>\n",
       "      <td>Female</td>\n",
       "      <td>2063-03-18</td>\n",
       "      <td>GA</td>\n",
       "      <td>823-712-3528</td>\n",
       "      <td>Platinum</td>\n",
       "      <td>38011383</td>\n",
       "      <td>Natural causes</td>\n",
       "      <td>2017-09-14</td>\n",
       "      <td>Auto</td>\n",
       "      <td>Yes</td>\n",
       "      <td>Material only</td>\n",
       "      <td>1670.0</td>\n",
       "      <td>1.0</td>\n",
       "      <td>No</td>\n",
       "      <td>0</td>\n",
       "    </tr>\n",
       "  </tbody>\n",
       "</table>\n",
       "</div>"
      ],
      "text/plain": [
       "      customer_id  gender DateOfBirth State       Contact   Segment  claim_id  \\\n",
       "286      93915431    Male  2067-09-08    ME  134-785-1687      Gold  99775483   \n",
       "1058     56425562  Female  2063-03-18    GA  823-712-3528  Platinum  38011383   \n",
       "\n",
       "      incident_cause claim_date claim_area police_report           claim_type  \\\n",
       "286     Other causes 2018-10-30       Auto           Yes  Material and injury   \n",
       "1058  Natural causes 2017-09-14       Auto           Yes        Material only   \n",
       "\n",
       "      claim_amount  total_policy_claims fraudulent  flag  \n",
       "286        42124.5                  1.0        Yes     0  \n",
       "1058        1670.0                  1.0         No     0  "
      ]
     },
     "execution_count": 34,
     "metadata": {},
     "output_type": "execute_result"
    }
   ],
   "source": [
    "cust_demographics_claims.head(2)"
   ]
  },
  {
   "cell_type": "code",
   "execution_count": 35,
   "id": "841dda96",
   "metadata": {},
   "outputs": [
    {
     "data": {
      "text/html": [
       "<div>\n",
       "<style scoped>\n",
       "    .dataframe tbody tr th:only-of-type {\n",
       "        vertical-align: middle;\n",
       "    }\n",
       "\n",
       "    .dataframe tbody tr th {\n",
       "        vertical-align: top;\n",
       "    }\n",
       "\n",
       "    .dataframe thead th {\n",
       "        text-align: right;\n",
       "    }\n",
       "</style>\n",
       "<table border=\"1\" class=\"dataframe\">\n",
       "  <thead>\n",
       "    <tr style=\"text-align: right;\">\n",
       "      <th></th>\n",
       "      <th>customer_id</th>\n",
       "      <th>gender</th>\n",
       "      <th>DateOfBirth</th>\n",
       "      <th>State</th>\n",
       "      <th>Contact</th>\n",
       "      <th>Segment</th>\n",
       "      <th>claim_id</th>\n",
       "      <th>incident_cause</th>\n",
       "      <th>claim_date</th>\n",
       "      <th>claim_area</th>\n",
       "      <th>police_report</th>\n",
       "      <th>claim_type</th>\n",
       "      <th>claim_amount</th>\n",
       "      <th>total_policy_claims</th>\n",
       "      <th>fraudulent</th>\n",
       "      <th>flag</th>\n",
       "      <th>Age</th>\n",
       "    </tr>\n",
       "  </thead>\n",
       "  <tbody>\n",
       "    <tr>\n",
       "      <th>286</th>\n",
       "      <td>93915431</td>\n",
       "      <td>Male</td>\n",
       "      <td>1967-09-08 18:00:00</td>\n",
       "      <td>ME</td>\n",
       "      <td>134-785-1687</td>\n",
       "      <td>Gold</td>\n",
       "      <td>99775483</td>\n",
       "      <td>Other causes</td>\n",
       "      <td>2018-10-30</td>\n",
       "      <td>Auto</td>\n",
       "      <td>Yes</td>\n",
       "      <td>Material and injury</td>\n",
       "      <td>42124.5</td>\n",
       "      <td>1.0</td>\n",
       "      <td>Yes</td>\n",
       "      <td>0</td>\n",
       "      <td>55.0</td>\n",
       "    </tr>\n",
       "    <tr>\n",
       "      <th>1058</th>\n",
       "      <td>56425562</td>\n",
       "      <td>Female</td>\n",
       "      <td>1963-03-18 18:00:00</td>\n",
       "      <td>GA</td>\n",
       "      <td>823-712-3528</td>\n",
       "      <td>Platinum</td>\n",
       "      <td>38011383</td>\n",
       "      <td>Natural causes</td>\n",
       "      <td>2017-09-14</td>\n",
       "      <td>Auto</td>\n",
       "      <td>Yes</td>\n",
       "      <td>Material only</td>\n",
       "      <td>1670.0</td>\n",
       "      <td>1.0</td>\n",
       "      <td>No</td>\n",
       "      <td>0</td>\n",
       "      <td>60.0</td>\n",
       "    </tr>\n",
       "    <tr>\n",
       "      <th>420</th>\n",
       "      <td>9884792</td>\n",
       "      <td>Male</td>\n",
       "      <td>1974-12-23 00:00:00</td>\n",
       "      <td>GA</td>\n",
       "      <td>764-745-3951</td>\n",
       "      <td>Silver</td>\n",
       "      <td>92714664</td>\n",
       "      <td>Driver error</td>\n",
       "      <td>2017-09-14</td>\n",
       "      <td>Auto</td>\n",
       "      <td>No</td>\n",
       "      <td>Injury only</td>\n",
       "      <td>29630.0</td>\n",
       "      <td>1.0</td>\n",
       "      <td>No</td>\n",
       "      <td>1</td>\n",
       "      <td>48.0</td>\n",
       "    </tr>\n",
       "  </tbody>\n",
       "</table>\n",
       "</div>"
      ],
      "text/plain": [
       "      customer_id  gender         DateOfBirth State       Contact   Segment  \\\n",
       "286      93915431    Male 1967-09-08 18:00:00    ME  134-785-1687      Gold   \n",
       "1058     56425562  Female 1963-03-18 18:00:00    GA  823-712-3528  Platinum   \n",
       "420       9884792    Male 1974-12-23 00:00:00    GA  764-745-3951    Silver   \n",
       "\n",
       "      claim_id  incident_cause claim_date claim_area police_report  \\\n",
       "286   99775483    Other causes 2018-10-30       Auto           Yes   \n",
       "1058  38011383  Natural causes 2017-09-14       Auto           Yes   \n",
       "420   92714664    Driver error 2017-09-14       Auto            No   \n",
       "\n",
       "               claim_type  claim_amount  total_policy_claims fraudulent  flag  \\\n",
       "286   Material and injury       42124.5                  1.0        Yes     0   \n",
       "1058        Material only        1670.0                  1.0         No     0   \n",
       "420           Injury only       29630.0                  1.0         No     1   \n",
       "\n",
       "       Age  \n",
       "286   55.0  \n",
       "1058  60.0  \n",
       "420   48.0  "
      ]
     },
     "execution_count": 35,
     "metadata": {},
     "output_type": "execute_result"
    }
   ],
   "source": [
    "now = pd.Timestamp('now')\n",
    "cust_demographics_claims['DateOfBirth'] = pd.to_datetime(cust_demographics_claims['DateOfBirth'], format='%y-%m-%d')\n",
    "cust_demographics_claims['DateOfBirth'] = cust_demographics_claims['DateOfBirth'].where(cust_demographics_claims['DateOfBirth']<now, cust_demographics_claims['DateOfBirth']-np.timedelta64(100, 'Y'))\n",
    "cust_demographics_claims['Age'] = (now-cust_demographics_claims['DateOfBirth']).astype('timedelta64[Y]')\n",
    "cust_demographics_claims.head(3)"
   ]
  },
  {
   "cell_type": "code",
   "execution_count": 36,
   "id": "63396110",
   "metadata": {},
   "outputs": [],
   "source": [
    "def age_group(x):\n",
    "    if x<18:\n",
    "        return 'Children'\n",
    "    elif x>=18 and x<=30:\n",
    "        return 'Youth'\n",
    "    elif x>=31 and x<=60:\n",
    "        return 'Adult'\n",
    "    else:\n",
    "        return 'Senior'\n",
    "    \n",
    "cust_demographics_claims['Age_Group']=cust_demographics_claims.Age.apply(age_group)"
   ]
  },
  {
   "cell_type": "code",
   "execution_count": 37,
   "id": "340170f7",
   "metadata": {},
   "outputs": [
    {
     "data": {
      "text/html": [
       "<div>\n",
       "<style scoped>\n",
       "    .dataframe tbody tr th:only-of-type {\n",
       "        vertical-align: middle;\n",
       "    }\n",
       "\n",
       "    .dataframe tbody tr th {\n",
       "        vertical-align: top;\n",
       "    }\n",
       "\n",
       "    .dataframe thead th {\n",
       "        text-align: right;\n",
       "    }\n",
       "</style>\n",
       "<table border=\"1\" class=\"dataframe\">\n",
       "  <thead>\n",
       "    <tr style=\"text-align: right;\">\n",
       "      <th></th>\n",
       "      <th>customer_id</th>\n",
       "      <th>gender</th>\n",
       "      <th>DateOfBirth</th>\n",
       "      <th>State</th>\n",
       "      <th>Contact</th>\n",
       "      <th>Segment</th>\n",
       "      <th>claim_id</th>\n",
       "      <th>incident_cause</th>\n",
       "      <th>claim_date</th>\n",
       "      <th>claim_area</th>\n",
       "      <th>police_report</th>\n",
       "      <th>claim_type</th>\n",
       "      <th>claim_amount</th>\n",
       "      <th>total_policy_claims</th>\n",
       "      <th>fraudulent</th>\n",
       "      <th>flag</th>\n",
       "      <th>Age</th>\n",
       "      <th>Age_Group</th>\n",
       "    </tr>\n",
       "  </thead>\n",
       "  <tbody>\n",
       "    <tr>\n",
       "      <th>286</th>\n",
       "      <td>93915431</td>\n",
       "      <td>Male</td>\n",
       "      <td>1967-09-08 18:00:00</td>\n",
       "      <td>ME</td>\n",
       "      <td>134-785-1687</td>\n",
       "      <td>Gold</td>\n",
       "      <td>99775483</td>\n",
       "      <td>Other causes</td>\n",
       "      <td>2018-10-30</td>\n",
       "      <td>Auto</td>\n",
       "      <td>Yes</td>\n",
       "      <td>Material and injury</td>\n",
       "      <td>42124.5</td>\n",
       "      <td>1.0</td>\n",
       "      <td>Yes</td>\n",
       "      <td>0</td>\n",
       "      <td>55.0</td>\n",
       "      <td>Adult</td>\n",
       "    </tr>\n",
       "    <tr>\n",
       "      <th>1058</th>\n",
       "      <td>56425562</td>\n",
       "      <td>Female</td>\n",
       "      <td>1963-03-18 18:00:00</td>\n",
       "      <td>GA</td>\n",
       "      <td>823-712-3528</td>\n",
       "      <td>Platinum</td>\n",
       "      <td>38011383</td>\n",
       "      <td>Natural causes</td>\n",
       "      <td>2017-09-14</td>\n",
       "      <td>Auto</td>\n",
       "      <td>Yes</td>\n",
       "      <td>Material only</td>\n",
       "      <td>1670.0</td>\n",
       "      <td>1.0</td>\n",
       "      <td>No</td>\n",
       "      <td>0</td>\n",
       "      <td>60.0</td>\n",
       "      <td>Adult</td>\n",
       "    </tr>\n",
       "    <tr>\n",
       "      <th>420</th>\n",
       "      <td>9884792</td>\n",
       "      <td>Male</td>\n",
       "      <td>1974-12-23 00:00:00</td>\n",
       "      <td>GA</td>\n",
       "      <td>764-745-3951</td>\n",
       "      <td>Silver</td>\n",
       "      <td>92714664</td>\n",
       "      <td>Driver error</td>\n",
       "      <td>2017-09-14</td>\n",
       "      <td>Auto</td>\n",
       "      <td>No</td>\n",
       "      <td>Injury only</td>\n",
       "      <td>29630.0</td>\n",
       "      <td>1.0</td>\n",
       "      <td>No</td>\n",
       "      <td>1</td>\n",
       "      <td>48.0</td>\n",
       "      <td>Adult</td>\n",
       "    </tr>\n",
       "    <tr>\n",
       "      <th>28</th>\n",
       "      <td>1924109</td>\n",
       "      <td>Male</td>\n",
       "      <td>1981-12-13 00:00:00</td>\n",
       "      <td>UT</td>\n",
       "      <td>431-179-6475</td>\n",
       "      <td>Gold</td>\n",
       "      <td>8782253</td>\n",
       "      <td>Driver error</td>\n",
       "      <td>2017-09-14</td>\n",
       "      <td>Auto</td>\n",
       "      <td>Yes</td>\n",
       "      <td>Material only</td>\n",
       "      <td>1690.0</td>\n",
       "      <td>1.0</td>\n",
       "      <td>No</td>\n",
       "      <td>0</td>\n",
       "      <td>41.0</td>\n",
       "      <td>Adult</td>\n",
       "    </tr>\n",
       "    <tr>\n",
       "      <th>448</th>\n",
       "      <td>59793026</td>\n",
       "      <td>Male</td>\n",
       "      <td>1966-12-09 18:00:00</td>\n",
       "      <td>ME</td>\n",
       "      <td>231-719-3629</td>\n",
       "      <td>Gold</td>\n",
       "      <td>76745084</td>\n",
       "      <td>Other driver error</td>\n",
       "      <td>2017-09-07</td>\n",
       "      <td>Auto</td>\n",
       "      <td>Yes</td>\n",
       "      <td>Material and injury</td>\n",
       "      <td>40210.0</td>\n",
       "      <td>1.0</td>\n",
       "      <td>No</td>\n",
       "      <td>0</td>\n",
       "      <td>56.0</td>\n",
       "      <td>Adult</td>\n",
       "    </tr>\n",
       "  </tbody>\n",
       "</table>\n",
       "</div>"
      ],
      "text/plain": [
       "      customer_id  gender         DateOfBirth State       Contact   Segment  \\\n",
       "286      93915431    Male 1967-09-08 18:00:00    ME  134-785-1687      Gold   \n",
       "1058     56425562  Female 1963-03-18 18:00:00    GA  823-712-3528  Platinum   \n",
       "420       9884792    Male 1974-12-23 00:00:00    GA  764-745-3951    Silver   \n",
       "28        1924109    Male 1981-12-13 00:00:00    UT  431-179-6475      Gold   \n",
       "448      59793026    Male 1966-12-09 18:00:00    ME  231-719-3629      Gold   \n",
       "\n",
       "      claim_id      incident_cause claim_date claim_area police_report  \\\n",
       "286   99775483        Other causes 2018-10-30       Auto           Yes   \n",
       "1058  38011383      Natural causes 2017-09-14       Auto           Yes   \n",
       "420   92714664        Driver error 2017-09-14       Auto            No   \n",
       "28     8782253        Driver error 2017-09-14       Auto           Yes   \n",
       "448   76745084  Other driver error 2017-09-07       Auto           Yes   \n",
       "\n",
       "               claim_type  claim_amount  total_policy_claims fraudulent  flag  \\\n",
       "286   Material and injury       42124.5                  1.0        Yes     0   \n",
       "1058        Material only        1670.0                  1.0         No     0   \n",
       "420           Injury only       29630.0                  1.0         No     1   \n",
       "28          Material only        1690.0                  1.0         No     0   \n",
       "448   Material and injury       40210.0                  1.0         No     0   \n",
       "\n",
       "       Age Age_Group  \n",
       "286   55.0     Adult  \n",
       "1058  60.0     Adult  \n",
       "420   48.0     Adult  \n",
       "28    41.0     Adult  \n",
       "448   56.0     Adult  "
      ]
     },
     "execution_count": 37,
     "metadata": {},
     "output_type": "execute_result"
    }
   ],
   "source": [
    "cust_demographics_claims.head(5)"
   ]
  },
  {
   "cell_type": "markdown",
   "id": "45197b54",
   "metadata": {},
   "source": [
    "### 8. What is the average amount claimed by the customers from various segments?"
   ]
  },
  {
   "cell_type": "code",
   "execution_count": 38,
   "id": "75da70a6",
   "metadata": {},
   "outputs": [],
   "source": [
    "segment_avg_claim=cust_demographics_claims.groupby(by='Segment').claim_amount.mean().reset_index()"
   ]
  },
  {
   "cell_type": "code",
   "execution_count": 39,
   "id": "3120f8f5",
   "metadata": {},
   "outputs": [
    {
     "data": {
      "text/html": [
       "<div>\n",
       "<style scoped>\n",
       "    .dataframe tbody tr th:only-of-type {\n",
       "        vertical-align: middle;\n",
       "    }\n",
       "\n",
       "    .dataframe tbody tr th {\n",
       "        vertical-align: top;\n",
       "    }\n",
       "\n",
       "    .dataframe thead th {\n",
       "        text-align: right;\n",
       "    }\n",
       "</style>\n",
       "<table border=\"1\" class=\"dataframe\">\n",
       "  <thead>\n",
       "    <tr style=\"text-align: right;\">\n",
       "      <th></th>\n",
       "      <th>Segment</th>\n",
       "      <th>claim_amount</th>\n",
       "    </tr>\n",
       "  </thead>\n",
       "  <tbody>\n",
       "    <tr>\n",
       "      <th>0</th>\n",
       "      <td>Gold</td>\n",
       "      <td>12846.400227</td>\n",
       "    </tr>\n",
       "    <tr>\n",
       "      <th>1</th>\n",
       "      <td>Platinum</td>\n",
       "      <td>12371.654843</td>\n",
       "    </tr>\n",
       "    <tr>\n",
       "      <th>2</th>\n",
       "      <td>Silver</td>\n",
       "      <td>12267.859374</td>\n",
       "    </tr>\n",
       "  </tbody>\n",
       "</table>\n",
       "</div>"
      ],
      "text/plain": [
       "    Segment  claim_amount\n",
       "0      Gold  12846.400227\n",
       "1  Platinum  12371.654843\n",
       "2    Silver  12267.859374"
      ]
     },
     "execution_count": 39,
     "metadata": {},
     "output_type": "execute_result"
    }
   ],
   "source": [
    "segment_avg_claim"
   ]
  },
  {
   "cell_type": "markdown",
   "id": "c59e8723",
   "metadata": {},
   "source": [
    "### 9. What is the total claim amount based on incident cause for all the claims that have been done at least 20 days prior to 1st of October, 2018."
   ]
  },
  {
   "cell_type": "code",
   "execution_count": 40,
   "id": "9ba84d91",
   "metadata": {},
   "outputs": [],
   "source": [
    "days=pd.DateOffset(days=20)\n",
    "date=pd.to_datetime('2018-10-01')"
   ]
  },
  {
   "cell_type": "code",
   "execution_count": 41,
   "id": "8ee502f6",
   "metadata": {},
   "outputs": [],
   "source": [
    "date_offset=date-days"
   ]
  },
  {
   "cell_type": "code",
   "execution_count": 42,
   "id": "51b2a979",
   "metadata": {},
   "outputs": [
    {
     "data": {
      "text/plain": [
       "Timestamp('2018-09-11 00:00:00')"
      ]
     },
     "execution_count": 42,
     "metadata": {},
     "output_type": "execute_result"
    }
   ],
   "source": [
    "date_offset"
   ]
  },
  {
   "cell_type": "code",
   "execution_count": 43,
   "id": "67789d99",
   "metadata": {},
   "outputs": [],
   "source": [
    "cust_demographics_claims1=cust_demographics_claims.loc[cust_demographics_claims['claim_date']<=date_offset , ]"
   ]
  },
  {
   "cell_type": "code",
   "execution_count": 44,
   "id": "0ca0cb5c",
   "metadata": {},
   "outputs": [],
   "source": [
    "incident_claim_amount=cust_demographics_claims1.groupby('incident_cause').claim_amount.sum().reset_index()"
   ]
  },
  {
   "cell_type": "code",
   "execution_count": 45,
   "id": "25bf4b33",
   "metadata": {},
   "outputs": [
    {
     "data": {
      "text/html": [
       "<div>\n",
       "<style scoped>\n",
       "    .dataframe tbody tr th:only-of-type {\n",
       "        vertical-align: middle;\n",
       "    }\n",
       "\n",
       "    .dataframe tbody tr th {\n",
       "        vertical-align: top;\n",
       "    }\n",
       "\n",
       "    .dataframe thead th {\n",
       "        text-align: right;\n",
       "    }\n",
       "</style>\n",
       "<table border=\"1\" class=\"dataframe\">\n",
       "  <thead>\n",
       "    <tr style=\"text-align: right;\">\n",
       "      <th></th>\n",
       "      <th>incident_cause</th>\n",
       "      <th>claim_amount</th>\n",
       "    </tr>\n",
       "  </thead>\n",
       "  <tbody>\n",
       "    <tr>\n",
       "      <th>0</th>\n",
       "      <td>Crime</td>\n",
       "      <td>7.219386e+05</td>\n",
       "    </tr>\n",
       "    <tr>\n",
       "      <th>1</th>\n",
       "      <td>Driver error</td>\n",
       "      <td>3.315851e+06</td>\n",
       "    </tr>\n",
       "    <tr>\n",
       "      <th>2</th>\n",
       "      <td>Natural causes</td>\n",
       "      <td>1.312987e+06</td>\n",
       "    </tr>\n",
       "    <tr>\n",
       "      <th>3</th>\n",
       "      <td>Other causes</td>\n",
       "      <td>3.723152e+06</td>\n",
       "    </tr>\n",
       "    <tr>\n",
       "      <th>4</th>\n",
       "      <td>Other driver error</td>\n",
       "      <td>3.277536e+06</td>\n",
       "    </tr>\n",
       "  </tbody>\n",
       "</table>\n",
       "</div>"
      ],
      "text/plain": [
       "       incident_cause  claim_amount\n",
       "0               Crime  7.219386e+05\n",
       "1        Driver error  3.315851e+06\n",
       "2      Natural causes  1.312987e+06\n",
       "3        Other causes  3.723152e+06\n",
       "4  Other driver error  3.277536e+06"
      ]
     },
     "execution_count": 45,
     "metadata": {},
     "output_type": "execute_result"
    }
   ],
   "source": [
    "incident_claim_amount"
   ]
  },
  {
   "cell_type": "markdown",
   "id": "8b0b9867",
   "metadata": {},
   "source": [
    "### 10. How many adults from TX, DE and AK claimed insurance for driver related issues and causes? "
   ]
  },
  {
   "cell_type": "code",
   "execution_count": 46,
   "id": "b698b9ec",
   "metadata": {},
   "outputs": [
    {
     "data": {
      "text/plain": [
       "379771.90621915105"
      ]
     },
     "execution_count": 46,
     "metadata": {},
     "output_type": "execute_result"
    }
   ],
   "source": [
    "cust_demographics_claims[cust_demographics_claims.Age_Group=='Adult'].loc[cust_demographics_claims.State.isin(['TX', 'DE', 'AK']) & cust_demographics_claims.incident_cause.isin(['Driver error','Other driver error' ]), ].claim_amount.sum()"
   ]
  },
  {
   "cell_type": "markdown",
   "id": "c8837c1a",
   "metadata": {},
   "source": [
    "### 11. Draw a pie chart between the aggregated value of claim amount based on gender and segment. Represent the claim amount as a percentage on the pie chart.\n"
   ]
  },
  {
   "cell_type": "code",
   "execution_count": 47,
   "id": "7260deed",
   "metadata": {},
   "outputs": [],
   "source": [
    "t1=cust_demographics_claims.groupby(by=['Segment','gender']).claim_amount.sum()"
   ]
  },
  {
   "cell_type": "code",
   "execution_count": 48,
   "id": "c6466167",
   "metadata": {},
   "outputs": [
    {
     "data": {
      "text/plain": [
       "Segment   gender\n",
       "Gold      Female    2.110045e+06\n",
       "          Male      2.655970e+06\n",
       "Platinum  Female    2.369722e+06\n",
       "          Male      2.096445e+06\n",
       "Silver    Female    1.897545e+06\n",
       "          Male      2.347134e+06\n",
       "Name: claim_amount, dtype: float64"
      ]
     },
     "execution_count": 48,
     "metadata": {},
     "output_type": "execute_result"
    }
   ],
   "source": [
    "t1"
   ]
  },
  {
   "cell_type": "code",
   "execution_count": 49,
   "id": "a4d83d02",
   "metadata": {},
   "outputs": [
    {
     "data": {
      "text/plain": [
       "<AxesSubplot:ylabel='claim_amount'>"
      ]
     },
     "execution_count": 49,
     "metadata": {},
     "output_type": "execute_result"
    },
    {
     "data": {
      "image/png": "[encoded data removed]",
      "text/plain": [
       "<Figure size 800x600 with 1 Axes>"
      ]
     },
     "metadata": {},
     "output_type": "display_data"
    }
   ],
   "source": [
    "t1.plot.pie(y='claim_amount',  autopct='%1.1f%%', figsize=(8, 6), shadow=True, startangle=90, explode=(0, 0.1, 0, 0, 0, 0))"
   ]
  },
  {
   "cell_type": "markdown",
   "id": "58f671cb",
   "metadata": {},
   "source": [
    "### 12. Among males and females, which gender had claimed the most for any type of driver related issues? E.g. This metric can be compared using a bar chart"
   ]
  },
  {
   "cell_type": "code",
   "execution_count": 50,
   "id": "83ee6665",
   "metadata": {},
   "outputs": [
    {
     "data": {
      "image/png": "[encoded data removed]",
      "text/plain": [
       "<Figure size 640x480 with 1 Axes>"
      ]
     },
     "metadata": {},
     "output_type": "display_data"
    }
   ],
   "source": [
    "gender_driver_claim_count=cust_demographics_claims.loc[ cust_demographics_claims.incident_cause.isin(['Driver error', 'Other driver error']), ].groupby(by='gender').incident_cause.count().plot(kind='bar')"
   ]
  },
  {
   "cell_type": "markdown",
   "id": "a1e6a4d4",
   "metadata": {},
   "source": [
    "### 13. Which age group had the maximum fraudulent policy claims? Visualize it on a bar chart."
   ]
  },
  {
   "cell_type": "code",
   "execution_count": 51,
   "id": "32561e72",
   "metadata": {},
   "outputs": [
    {
     "data": {
      "image/png": "[encoded data removed]",
      "text/plain": [
       "<Figure size 640x480 with 1 Axes>"
      ]
     },
     "metadata": {},
     "output_type": "display_data"
    }
   ],
   "source": [
    "age_group_fraud_claim=cust_demographics_claims.loc[ cust_demographics_claims.fraudulent=='Yes', ].groupby(by='Age_Group').fraudulent.count().sort_values(ascending=False).plot(kind='bar')"
   ]
  },
  {
   "cell_type": "markdown",
   "id": "3e07eacc",
   "metadata": {},
   "source": [
    "### 14. Visualize the monthly trend of the total amount that has been claimed by the customers. Ensure that on the “month” axis, the month is in a chronological order not alphabetical order. "
   ]
  },
  {
   "cell_type": "code",
   "execution_count": 52,
   "id": "8adfd57f",
   "metadata": {},
   "outputs": [],
   "source": [
    "cust_demographics_claims['Month']=cust_demographics_claims.claim_date.apply(lambda x:x.month)"
   ]
  },
  {
   "cell_type": "code",
   "execution_count": 53,
   "id": "eb95f85d",
   "metadata": {},
   "outputs": [
    {
     "data": {
      "text/plain": [
       "<AxesSubplot:xlabel='Month'>"
      ]
     },
     "execution_count": 53,
     "metadata": {},
     "output_type": "execute_result"
    },
    {
     "data": {
      "image/png": "[encoded data removed]",
      "text/plain": [
       "<Figure size 640x480 with 1 Axes>"
      ]
     },
     "metadata": {},
     "output_type": "display_data"
    }
   ],
   "source": [
    "cust_demographics_claims.groupby('Month').claim_amount.sum().plot(kind='bar')"
   ]
  },
  {
   "cell_type": "markdown",
   "id": "8a533b92",
   "metadata": {},
   "source": [
    "### 15. What is the average claim amount for gender and age categories and suitably represent the above using a facetted bar chart, one facet that represents fraudulent claims and the other for non-fraudulent claims."
   ]
  },
  {
   "cell_type": "code",
   "execution_count": 54,
   "id": "cbe18a5d",
   "metadata": {},
   "outputs": [],
   "source": [
    "Fraud_amount_gender=pd.DataFrame(cust_demographics_claims.loc[(cust_demographics_claims.fraudulent==\"Yes\")].groupby([\"gender\",\"Age_Group\"])[[\"claim_amount\"]].mean())\n",
    "Non_Fraud_amount_gender=pd.DataFrame(cust_demographics_claims.loc[(cust_demographics_claims.fraudulent==\"No\")].groupby([\"gender\",\"Age_Group\"])[[\"claim_amount\"]].mean())"
   ]
  },
  {
   "cell_type": "code",
   "execution_count": 55,
   "id": "5ae19ad0",
   "metadata": {},
   "outputs": [
    {
     "data": {
      "text/html": [
       "<div>\n",
       "<style scoped>\n",
       "    .dataframe tbody tr th:only-of-type {\n",
       "        vertical-align: middle;\n",
       "    }\n",
       "\n",
       "    .dataframe tbody tr th {\n",
       "        vertical-align: top;\n",
       "    }\n",
       "\n",
       "    .dataframe thead th {\n",
       "        text-align: right;\n",
       "    }\n",
       "</style>\n",
       "<table border=\"1\" class=\"dataframe\">\n",
       "  <thead>\n",
       "    <tr style=\"text-align: right;\">\n",
       "      <th></th>\n",
       "      <th></th>\n",
       "      <th>claim_amount</th>\n",
       "    </tr>\n",
       "    <tr>\n",
       "      <th>gender</th>\n",
       "      <th>Age_Group</th>\n",
       "      <th></th>\n",
       "    </tr>\n",
       "  </thead>\n",
       "  <tbody>\n",
       "    <tr>\n",
       "      <th rowspan=\"3\" valign=\"top\">Female</th>\n",
       "      <th>Adult</th>\n",
       "      <td>12317.067652</td>\n",
       "    </tr>\n",
       "    <tr>\n",
       "      <th>Senior</th>\n",
       "      <td>4387.888889</td>\n",
       "    </tr>\n",
       "    <tr>\n",
       "      <th>Youth</th>\n",
       "      <td>8854.700283</td>\n",
       "    </tr>\n",
       "    <tr>\n",
       "      <th rowspan=\"2\" valign=\"top\">Male</th>\n",
       "      <th>Adult</th>\n",
       "      <td>15294.105550</td>\n",
       "    </tr>\n",
       "    <tr>\n",
       "      <th>Senior</th>\n",
       "      <td>28232.500000</td>\n",
       "    </tr>\n",
       "  </tbody>\n",
       "</table>\n",
       "</div>"
      ],
      "text/plain": [
       "                  claim_amount\n",
       "gender Age_Group              \n",
       "Female Adult      12317.067652\n",
       "       Senior      4387.888889\n",
       "       Youth       8854.700283\n",
       "Male   Adult      15294.105550\n",
       "       Senior     28232.500000"
      ]
     },
     "execution_count": 55,
     "metadata": {},
     "output_type": "execute_result"
    }
   ],
   "source": [
    "Fraud_amount_gender.head(5)"
   ]
  },
  {
   "cell_type": "code",
   "execution_count": 56,
   "id": "ab988a59",
   "metadata": {},
   "outputs": [
    {
     "data": {
      "text/html": [
       "<div>\n",
       "<style scoped>\n",
       "    .dataframe tbody tr th:only-of-type {\n",
       "        vertical-align: middle;\n",
       "    }\n",
       "\n",
       "    .dataframe tbody tr th {\n",
       "        vertical-align: top;\n",
       "    }\n",
       "\n",
       "    .dataframe thead th {\n",
       "        text-align: right;\n",
       "    }\n",
       "</style>\n",
       "<table border=\"1\" class=\"dataframe\">\n",
       "  <thead>\n",
       "    <tr style=\"text-align: right;\">\n",
       "      <th></th>\n",
       "      <th></th>\n",
       "      <th>claim_amount</th>\n",
       "    </tr>\n",
       "    <tr>\n",
       "      <th>gender</th>\n",
       "      <th>Age_Group</th>\n",
       "      <th></th>\n",
       "    </tr>\n",
       "  </thead>\n",
       "  <tbody>\n",
       "    <tr>\n",
       "      <th rowspan=\"3\" valign=\"top\">Female</th>\n",
       "      <th>Adult</th>\n",
       "      <td>11977.552497</td>\n",
       "    </tr>\n",
       "    <tr>\n",
       "      <th>Senior</th>\n",
       "      <td>16322.431639</td>\n",
       "    </tr>\n",
       "    <tr>\n",
       "      <th>Youth</th>\n",
       "      <td>12946.612009</td>\n",
       "    </tr>\n",
       "    <tr>\n",
       "      <th rowspan=\"2\" valign=\"top\">Male</th>\n",
       "      <th>Adult</th>\n",
       "      <td>12232.408464</td>\n",
       "    </tr>\n",
       "    <tr>\n",
       "      <th>Senior</th>\n",
       "      <td>13210.517427</td>\n",
       "    </tr>\n",
       "  </tbody>\n",
       "</table>\n",
       "</div>"
      ],
      "text/plain": [
       "                  claim_amount\n",
       "gender Age_Group              \n",
       "Female Adult      11977.552497\n",
       "       Senior     16322.431639\n",
       "       Youth      12946.612009\n",
       "Male   Adult      12232.408464\n",
       "       Senior     13210.517427"
      ]
     },
     "execution_count": 56,
     "metadata": {},
     "output_type": "execute_result"
    }
   ],
   "source": [
    "Non_Fraud_amount_gender.head(5)"
   ]
  },
  {
   "cell_type": "code",
   "execution_count": 57,
   "id": "2aab8885",
   "metadata": {},
   "outputs": [],
   "source": [
    "claim_age_gender=pd.merge(Fraud_amount_gender, Non_Fraud_amount_gender, on=['gender', 'Age_Group'])"
   ]
  },
  {
   "cell_type": "code",
   "execution_count": 58,
   "id": "d8216fbf",
   "metadata": {},
   "outputs": [
    {
     "data": {
      "text/html": [
       "<div>\n",
       "<style scoped>\n",
       "    .dataframe tbody tr th:only-of-type {\n",
       "        vertical-align: middle;\n",
       "    }\n",
       "\n",
       "    .dataframe tbody tr th {\n",
       "        vertical-align: top;\n",
       "    }\n",
       "\n",
       "    .dataframe thead th {\n",
       "        text-align: right;\n",
       "    }\n",
       "</style>\n",
       "<table border=\"1\" class=\"dataframe\">\n",
       "  <thead>\n",
       "    <tr style=\"text-align: right;\">\n",
       "      <th></th>\n",
       "      <th></th>\n",
       "      <th>claim_amount_x</th>\n",
       "      <th>claim_amount_y</th>\n",
       "    </tr>\n",
       "    <tr>\n",
       "      <th>gender</th>\n",
       "      <th>Age_Group</th>\n",
       "      <th></th>\n",
       "      <th></th>\n",
       "    </tr>\n",
       "  </thead>\n",
       "  <tbody>\n",
       "    <tr>\n",
       "      <th rowspan=\"3\" valign=\"top\">Female</th>\n",
       "      <th>Adult</th>\n",
       "      <td>12317.067652</td>\n",
       "      <td>11977.552497</td>\n",
       "    </tr>\n",
       "    <tr>\n",
       "      <th>Senior</th>\n",
       "      <td>4387.888889</td>\n",
       "      <td>16322.431639</td>\n",
       "    </tr>\n",
       "    <tr>\n",
       "      <th>Youth</th>\n",
       "      <td>8854.700283</td>\n",
       "      <td>12946.612009</td>\n",
       "    </tr>\n",
       "    <tr>\n",
       "      <th rowspan=\"3\" valign=\"top\">Male</th>\n",
       "      <th>Adult</th>\n",
       "      <td>15294.105550</td>\n",
       "      <td>12232.408464</td>\n",
       "    </tr>\n",
       "    <tr>\n",
       "      <th>Senior</th>\n",
       "      <td>28232.500000</td>\n",
       "      <td>13210.517427</td>\n",
       "    </tr>\n",
       "    <tr>\n",
       "      <th>Youth</th>\n",
       "      <td>11005.616815</td>\n",
       "      <td>12429.124828</td>\n",
       "    </tr>\n",
       "  </tbody>\n",
       "</table>\n",
       "</div>"
      ],
      "text/plain": [
       "                  claim_amount_x  claim_amount_y\n",
       "gender Age_Group                                \n",
       "Female Adult        12317.067652    11977.552497\n",
       "       Senior        4387.888889    16322.431639\n",
       "       Youth         8854.700283    12946.612009\n",
       "Male   Adult        15294.105550    12232.408464\n",
       "       Senior       28232.500000    13210.517427\n",
       "       Youth        11005.616815    12429.124828"
      ]
     },
     "execution_count": 58,
     "metadata": {},
     "output_type": "execute_result"
    }
   ],
   "source": [
    "claim_age_gender"
   ]
  },
  {
   "cell_type": "code",
   "execution_count": 59,
   "id": "d39da3cd",
   "metadata": {},
   "outputs": [],
   "source": [
    "claim_age_gender.rename(columns={'claim_amount_x':'Frauds_claim_amount', 'claim_amount_y': 'Non_Frauds_claim_amount'}, inplace=True)"
   ]
  },
  {
   "cell_type": "code",
   "execution_count": 60,
   "id": "ba28d080",
   "metadata": {},
   "outputs": [
    {
     "data": {
      "text/plain": [
       "<AxesSubplot:xlabel='gender,Age_Group'>"
      ]
     },
     "execution_count": 60,
     "metadata": {},
     "output_type": "execute_result"
    },
    {
     "data": {
      "image/png": "[encoded data removed]",
      "text/plain": [
       "<Figure size 640x480 with 1 Axes>"
      ]
     },
     "metadata": {},
     "output_type": "display_data"
    }
   ],
   "source": [
    "claim_age_gender.plot(kind='bar')"
   ]
  },
  {
   "cell_type": "markdown",
   "id": "82e8671c",
   "metadata": {},
   "source": [
    "### Based on the conclusions from exploratory analysis as well as suitable statistical tests, answer the below questions. Please include a detailed write-up on the parameters taken into consideration, the Hypothesis testing steps, conclusion from the p-values and the business implications of the statements. "
   ]
  },
  {
   "cell_type": "markdown",
   "id": "b376e45d",
   "metadata": {},
   "source": [
    "### 16. Is there any similarity in the amount claimed by males and females?"
   ]
  },
  {
   "cell_type": "code",
   "execution_count": 61,
   "id": "c8ac5cf7",
   "metadata": {},
   "outputs": [],
   "source": [
    "# To find if there is any simalirity between amount claimed by males and females we need to perform Hypothesis Testing"
   ]
  },
  {
   "cell_type": "code",
   "execution_count": 62,
   "id": "fa7fde0d",
   "metadata": {},
   "outputs": [],
   "source": [
    "# First lets find the amount claimed by males and females\n",
    "\n",
    "claim_by_male=cust_demographics_claims['claim_amount'].loc[cust_demographics_claims['gender']=='Male']\n",
    "claim_by_female=cust_demographics_claims['claim_amount'].loc[cust_demographics_claims['gender']=='Female']"
   ]
  },
  {
   "cell_type": "code",
   "execution_count": 63,
   "id": "13c91f2d",
   "metadata": {},
   "outputs": [
    {
     "name": "stdout",
     "output_type": "stream",
     "text": [
      "Mean of claims by males (u1) 12884.845110657638\n"
     ]
    }
   ],
   "source": [
    "print(\"Mean of claims by males (u1)\", claim_by_male.mean())"
   ]
  },
  {
   "cell_type": "code",
   "execution_count": 64,
   "id": "33d46e4c",
   "metadata": {},
   "outputs": [
    {
     "name": "stdout",
     "output_type": "stream",
     "text": [
      "Mean of claims by females (u2) 12101.160474551885\n"
     ]
    }
   ],
   "source": [
    "print(\"Mean of claims by females (u2)\", claim_by_female.mean())"
   ]
  },
  {
   "cell_type": "code",
   "execution_count": 65,
   "id": "b2503263",
   "metadata": {},
   "outputs": [],
   "source": [
    "# We need to perform two sample t-test \n",
    "#(Implementing two sample t test because where we have 2 samples to compare, belonging to different objects, one is gender & other is claim amount.\n",
    "\n",
    "\n",
    "# Assumptions for t test \n",
    "# \n",
    "# Measurements for one observation do not affect measurements for any other observation. Data values must be independent. \n",
    "# Data in each group must be obtained via a random sample from the population.\n",
    "# Data in each group are normally distributed.\n",
    "# Data values are continuous."
   ]
  },
  {
   "cell_type": "markdown",
   "id": "4808c1d6",
   "metadata": {},
   "source": [
    "###### STEP 1: Define Null Hypothesis (H0):\n",
    "\n",
    "                                    u1=u2\n",
    "                                    \n",
    "                                    or\n",
    "                                    \n",
    "                                    Amount claimed by Males and Females are same"
   ]
  },
  {
   "cell_type": "markdown",
   "id": "737a442d",
   "metadata": {},
   "source": [
    "###### STEP 2: Define Null Hypothesis (Ha):\n",
    "\n",
    "                                    u1!=u2\n",
    "                                    \n",
    "                                    or\n",
    "                                    \n",
    "                                    Amount claimed by Males and Females are different"
   ]
  },
  {
   "cell_type": "markdown",
   "id": "5e9e41ee",
   "metadata": {},
   "source": [
    "##### STEP 3: Define Confident Interval (CI) and p value:\n",
    "\n",
    "                                     CI =95% (cut off 1.960)\n",
    "                                     pvalue=0.05"
   ]
  },
  {
   "cell_type": "markdown",
   "id": "7d4c5ac5",
   "metadata": {},
   "source": [
    "#### STEP 4: Perform test:\n",
    "\n",
    " t- test (where we have 2 samples to compare, belonging to different objects, one is gender & other is claim amount)"
   ]
  },
  {
   "cell_type": "code",
   "execution_count": 66,
   "id": "a22269f4",
   "metadata": {},
   "outputs": [],
   "source": [
    "t=stats.ttest_ind(claim_by_male, claim_by_female)\n",
    "t_score=t.statistic\n",
    "p_value=t.pvalue"
   ]
  },
  {
   "cell_type": "code",
   "execution_count": 67,
   "id": "dd4371c4",
   "metadata": {},
   "outputs": [
    {
     "name": "stdout",
     "output_type": "stream",
     "text": [
      "the t-score is 0.9625093446632118 and the p-value is 0.33601006135365463\n"
     ]
    }
   ],
   "source": [
    "print(\"the t-score is {} and the p-value is {}\".format(t_score,p_value))"
   ]
  },
  {
   "cell_type": "markdown",
   "id": "d6b2186f",
   "metadata": {},
   "source": [
    "##### STEP 5: Rejection Rule:"
   ]
  },
  {
   "cell_type": "code",
   "execution_count": 68,
   "id": "154a4c78",
   "metadata": {},
   "outputs": [
    {
     "name": "stdout",
     "output_type": "stream",
     "text": [
      "We fail to reject Null Hypothesis\n"
     ]
    }
   ],
   "source": [
    "if (p_value<0.05):\n",
    "    print(\"We reject Null Hypothesis H0\")\n",
    "else:\n",
    "    print(\"We fail to reject Null Hypothesis\")"
   ]
  },
  {
   "cell_type": "markdown",
   "id": "9d2cdfc3",
   "metadata": {},
   "source": [
    "#####  STEP 6: Business Conclusion:\n",
    "\n",
    "There is a similarity between claim amount by males and females"
   ]
  },
  {
   "cell_type": "markdown",
   "id": "79716617",
   "metadata": {},
   "source": [
    "### 17. Is there any relationship between age category and segment?"
   ]
  },
  {
   "cell_type": "code",
   "execution_count": 69,
   "id": "291214f3",
   "metadata": {},
   "outputs": [],
   "source": [
    "# Both are categorical data age group and segment, so find a relationship between two categorical data, we perform pearson r test"
   ]
  },
  {
   "cell_type": "markdown",
   "id": "90af6ca3",
   "metadata": {},
   "source": [
    "###### STEP 1: Define Null Hypothesis H0:\n",
    "\n",
    "Age Group and Segment are independent"
   ]
  },
  {
   "cell_type": "markdown",
   "id": "b3b88df0",
   "metadata": {},
   "source": [
    "###### STEP 2: Define Null Hypothesis H0:\n",
    "\n",
    "Age Group and Segment are dependent"
   ]
  },
  {
   "cell_type": "markdown",
   "id": "15858221",
   "metadata": {},
   "source": [
    "##### STEP 3: Define Confident Interval and pvalue:\n",
    "        CI= 95% (cut off=1.960)\n",
    "        pvale=0.05"
   ]
  },
  {
   "cell_type": "markdown",
   "id": "397c7a5b",
   "metadata": {},
   "source": [
    "##### STEP 4: Perform Test: PearsonR Test"
   ]
  },
  {
   "cell_type": "code",
   "execution_count": 70,
   "id": "3af86ae9",
   "metadata": {},
   "outputs": [
    {
     "name": "stdout",
     "output_type": "stream",
     "text": [
      "<class 'pandas.core.frame.DataFrame'>\n",
      "Int64Index: 1078 entries, 286 to 732\n",
      "Data columns (total 19 columns):\n",
      " #   Column               Non-Null Count  Dtype         \n",
      "---  ------               --------------  -----         \n",
      " 0   customer_id          1078 non-null   int64         \n",
      " 1   gender               1078 non-null   object        \n",
      " 2   DateOfBirth          1078 non-null   datetime64[ns]\n",
      " 3   State                1078 non-null   object        \n",
      " 4   Contact              1078 non-null   object        \n",
      " 5   Segment              1078 non-null   object        \n",
      " 6   claim_id             1078 non-null   int64         \n",
      " 7   incident_cause       1078 non-null   object        \n",
      " 8   claim_date           1078 non-null   datetime64[ns]\n",
      " 9   claim_area           1078 non-null   object        \n",
      " 10  police_report        1078 non-null   object        \n",
      " 11  claim_type           1078 non-null   object        \n",
      " 12  claim_amount         1078 non-null   float64       \n",
      " 13  total_policy_claims  1068 non-null   float64       \n",
      " 14  fraudulent           1078 non-null   object        \n",
      " 15  flag                 1078 non-null   int32         \n",
      " 16  Age                  1078 non-null   float64       \n",
      " 17  Age_Group            1078 non-null   object        \n",
      " 18  Month                1078 non-null   int64         \n",
      "dtypes: datetime64[ns](2), float64(3), int32(1), int64(3), object(10)\n",
      "memory usage: 196.5+ KB\n"
     ]
    }
   ],
   "source": [
    "cust_demographics_claims.info()"
   ]
  },
  {
   "cell_type": "code",
   "execution_count": 71,
   "id": "30fc2141",
   "metadata": {},
   "outputs": [],
   "source": [
    "#chi_square test\n",
    "obs_freq=pd.crosstab(cust_demographics_claims.Age_Group, cust_demographics_claims.Segment)"
   ]
  },
  {
   "cell_type": "code",
   "execution_count": 72,
   "id": "fa462d35",
   "metadata": {},
   "outputs": [
    {
     "data": {
      "text/html": [
       "<div>\n",
       "<style scoped>\n",
       "    .dataframe tbody tr th:only-of-type {\n",
       "        vertical-align: middle;\n",
       "    }\n",
       "\n",
       "    .dataframe tbody tr th {\n",
       "        vertical-align: top;\n",
       "    }\n",
       "\n",
       "    .dataframe thead th {\n",
       "        text-align: right;\n",
       "    }\n",
       "</style>\n",
       "<table border=\"1\" class=\"dataframe\">\n",
       "  <thead>\n",
       "    <tr style=\"text-align: right;\">\n",
       "      <th>Segment</th>\n",
       "      <th>Gold</th>\n",
       "      <th>Platinum</th>\n",
       "      <th>Silver</th>\n",
       "    </tr>\n",
       "    <tr>\n",
       "      <th>Age_Group</th>\n",
       "      <th></th>\n",
       "      <th></th>\n",
       "      <th></th>\n",
       "    </tr>\n",
       "  </thead>\n",
       "  <tbody>\n",
       "    <tr>\n",
       "      <th>Adult</th>\n",
       "      <td>279</td>\n",
       "      <td>269</td>\n",
       "      <td>252</td>\n",
       "    </tr>\n",
       "    <tr>\n",
       "      <th>Senior</th>\n",
       "      <td>20</td>\n",
       "      <td>20</td>\n",
       "      <td>18</td>\n",
       "    </tr>\n",
       "    <tr>\n",
       "      <th>Youth</th>\n",
       "      <td>72</td>\n",
       "      <td>72</td>\n",
       "      <td>76</td>\n",
       "    </tr>\n",
       "  </tbody>\n",
       "</table>\n",
       "</div>"
      ],
      "text/plain": [
       "Segment    Gold  Platinum  Silver\n",
       "Age_Group                        \n",
       "Adult       279       269     252\n",
       "Senior       20        20      18\n",
       "Youth        72        72      76"
      ]
     },
     "execution_count": 72,
     "metadata": {},
     "output_type": "execute_result"
    }
   ],
   "source": [
    "obs_freq"
   ]
  },
  {
   "cell_type": "code",
   "execution_count": 73,
   "id": "e650017f",
   "metadata": {},
   "outputs": [],
   "source": [
    "chi_square_test=stats.chi2_contingency(obs_freq)"
   ]
  },
  {
   "cell_type": "code",
   "execution_count": 74,
   "id": "df1990d8",
   "metadata": {},
   "outputs": [
    {
     "data": {
      "text/plain": [
       "(0.8111365100882464,\n",
       " 0.9369488549748012,\n",
       " 4,\n",
       " array([[275.32467532, 267.90352505, 256.77179963],\n",
       "        [ 19.96103896,  19.42300557,  18.61595547],\n",
       "        [ 75.71428571,  73.67346939,  70.6122449 ]]))"
      ]
     },
     "execution_count": 74,
     "metadata": {},
     "output_type": "execute_result"
    }
   ],
   "source": [
    "chi_square_test"
   ]
  },
  {
   "cell_type": "code",
   "execution_count": 75,
   "id": "03627944",
   "metadata": {},
   "outputs": [],
   "source": [
    "chi_square_score=chi_square_test[0]\n",
    "p_value=chi_square_test[1]\n",
    "dof_score=chi_square_test[2]\n",
    "exp_array=chi_square_test[3]"
   ]
  },
  {
   "cell_type": "markdown",
   "id": "a6eaf891",
   "metadata": {},
   "source": [
    "##### STEP 5: Rejection Rule:"
   ]
  },
  {
   "cell_type": "markdown",
   "id": "17597016",
   "metadata": {},
   "source": [
    "* Chi score = 0.811 which is less than 9.48(from chi sq table with DOF 4)\n",
    "    Hence reject H0"
   ]
  },
  {
   "cell_type": "code",
   "execution_count": 76,
   "id": "f321f09b",
   "metadata": {},
   "outputs": [
    {
     "name": "stdout",
     "output_type": "stream",
     "text": [
      "We fail to reject Null Hypothesis H0\n"
     ]
    }
   ],
   "source": [
    "if p_value<0.05:\n",
    "    print('We reject Null Hypothesis H0')\n",
    "else:\n",
    "    print('We fail to reject Null Hypothesis H0')"
   ]
  },
  {
   "cell_type": "markdown",
   "id": "64970de4",
   "metadata": {},
   "source": [
    "###### STEP 6: Business Conclusion:\n",
    "\n",
    "Age Group  and Segment are not dependent"
   ]
  },
  {
   "cell_type": "markdown",
   "id": "0037028d",
   "metadata": {},
   "source": [
    "### 18. The current year has shown a significant rise in claim amounts as compared to 2016-17 fiscal average which was $10,000.\n"
   ]
  },
  {
   "cell_type": "code",
   "execution_count": 77,
   "id": "b92ebd77",
   "metadata": {},
   "outputs": [],
   "source": [
    "cust_demographics_claims_new= pd.DataFrame(cust_demographics_claims)"
   ]
  },
  {
   "cell_type": "code",
   "execution_count": 78,
   "id": "5bffcef0",
   "metadata": {},
   "outputs": [],
   "source": [
    "cust_demographics_claims_new['Year']=cust_demographics_claims_new.claim_date.apply(lambda x:x.year)"
   ]
  },
  {
   "cell_type": "code",
   "execution_count": 79,
   "id": "be536d04",
   "metadata": {},
   "outputs": [
    {
     "data": {
      "text/html": [
       "<div>\n",
       "<style scoped>\n",
       "    .dataframe tbody tr th:only-of-type {\n",
       "        vertical-align: middle;\n",
       "    }\n",
       "\n",
       "    .dataframe tbody tr th {\n",
       "        vertical-align: top;\n",
       "    }\n",
       "\n",
       "    .dataframe thead th {\n",
       "        text-align: right;\n",
       "    }\n",
       "</style>\n",
       "<table border=\"1\" class=\"dataframe\">\n",
       "  <thead>\n",
       "    <tr style=\"text-align: right;\">\n",
       "      <th></th>\n",
       "      <th>customer_id</th>\n",
       "      <th>gender</th>\n",
       "      <th>DateOfBirth</th>\n",
       "      <th>State</th>\n",
       "      <th>Contact</th>\n",
       "      <th>Segment</th>\n",
       "      <th>claim_id</th>\n",
       "      <th>incident_cause</th>\n",
       "      <th>claim_date</th>\n",
       "      <th>claim_area</th>\n",
       "      <th>police_report</th>\n",
       "      <th>claim_type</th>\n",
       "      <th>claim_amount</th>\n",
       "      <th>total_policy_claims</th>\n",
       "      <th>fraudulent</th>\n",
       "      <th>flag</th>\n",
       "      <th>Age</th>\n",
       "      <th>Age_Group</th>\n",
       "      <th>Month</th>\n",
       "      <th>Year</th>\n",
       "    </tr>\n",
       "  </thead>\n",
       "  <tbody>\n",
       "    <tr>\n",
       "      <th>286</th>\n",
       "      <td>93915431</td>\n",
       "      <td>Male</td>\n",
       "      <td>1967-09-08 18:00:00</td>\n",
       "      <td>ME</td>\n",
       "      <td>134-785-1687</td>\n",
       "      <td>Gold</td>\n",
       "      <td>99775483</td>\n",
       "      <td>Other causes</td>\n",
       "      <td>2018-10-30</td>\n",
       "      <td>Auto</td>\n",
       "      <td>Yes</td>\n",
       "      <td>Material and injury</td>\n",
       "      <td>42124.5</td>\n",
       "      <td>1.0</td>\n",
       "      <td>Yes</td>\n",
       "      <td>0</td>\n",
       "      <td>55.0</td>\n",
       "      <td>Adult</td>\n",
       "      <td>10</td>\n",
       "      <td>2018</td>\n",
       "    </tr>\n",
       "    <tr>\n",
       "      <th>1058</th>\n",
       "      <td>56425562</td>\n",
       "      <td>Female</td>\n",
       "      <td>1963-03-18 18:00:00</td>\n",
       "      <td>GA</td>\n",
       "      <td>823-712-3528</td>\n",
       "      <td>Platinum</td>\n",
       "      <td>38011383</td>\n",
       "      <td>Natural causes</td>\n",
       "      <td>2017-09-14</td>\n",
       "      <td>Auto</td>\n",
       "      <td>Yes</td>\n",
       "      <td>Material only</td>\n",
       "      <td>1670.0</td>\n",
       "      <td>1.0</td>\n",
       "      <td>No</td>\n",
       "      <td>0</td>\n",
       "      <td>60.0</td>\n",
       "      <td>Adult</td>\n",
       "      <td>9</td>\n",
       "      <td>2017</td>\n",
       "    </tr>\n",
       "    <tr>\n",
       "      <th>420</th>\n",
       "      <td>9884792</td>\n",
       "      <td>Male</td>\n",
       "      <td>1974-12-23 00:00:00</td>\n",
       "      <td>GA</td>\n",
       "      <td>764-745-3951</td>\n",
       "      <td>Silver</td>\n",
       "      <td>92714664</td>\n",
       "      <td>Driver error</td>\n",
       "      <td>2017-09-14</td>\n",
       "      <td>Auto</td>\n",
       "      <td>No</td>\n",
       "      <td>Injury only</td>\n",
       "      <td>29630.0</td>\n",
       "      <td>1.0</td>\n",
       "      <td>No</td>\n",
       "      <td>1</td>\n",
       "      <td>48.0</td>\n",
       "      <td>Adult</td>\n",
       "      <td>9</td>\n",
       "      <td>2017</td>\n",
       "    </tr>\n",
       "  </tbody>\n",
       "</table>\n",
       "</div>"
      ],
      "text/plain": [
       "      customer_id  gender         DateOfBirth State       Contact   Segment  \\\n",
       "286      93915431    Male 1967-09-08 18:00:00    ME  134-785-1687      Gold   \n",
       "1058     56425562  Female 1963-03-18 18:00:00    GA  823-712-3528  Platinum   \n",
       "420       9884792    Male 1974-12-23 00:00:00    GA  764-745-3951    Silver   \n",
       "\n",
       "      claim_id  incident_cause claim_date claim_area police_report  \\\n",
       "286   99775483    Other causes 2018-10-30       Auto           Yes   \n",
       "1058  38011383  Natural causes 2017-09-14       Auto           Yes   \n",
       "420   92714664    Driver error 2017-09-14       Auto            No   \n",
       "\n",
       "               claim_type  claim_amount  total_policy_claims fraudulent  flag  \\\n",
       "286   Material and injury       42124.5                  1.0        Yes     0   \n",
       "1058        Material only        1670.0                  1.0         No     0   \n",
       "420           Injury only       29630.0                  1.0         No     1   \n",
       "\n",
       "       Age Age_Group  Month  Year  \n",
       "286   55.0     Adult     10  2018  \n",
       "1058  60.0     Adult      9  2017  \n",
       "420   48.0     Adult      9  2017  "
      ]
     },
     "execution_count": 79,
     "metadata": {},
     "output_type": "execute_result"
    }
   ],
   "source": [
    "cust_demographics_claims_new.head(3)"
   ]
  },
  {
   "cell_type": "code",
   "execution_count": 80,
   "id": "9087438c",
   "metadata": {},
   "outputs": [],
   "source": [
    "cust_demo_2018=cust_demographics_claims_new.loc[cust_demographics_claims_new.Year==2018, 'claim_amount']"
   ]
  },
  {
   "cell_type": "markdown",
   "id": "89c75f1f",
   "metadata": {},
   "source": [
    "##### STEP 1: Define Null Hypothesis H0:\n",
    "        \n",
    "       Current year claim amount is decreased than or equal to 2016-17 fiscal year\n",
    "       u0<=u1"
   ]
  },
  {
   "cell_type": "markdown",
   "id": "8ad06d7e",
   "metadata": {},
   "source": [
    "##### STEP 2: Define Alternate Hypothesis Ha:\n",
    "       Current year claim amount is increased from 2016-17 fiscal year\n",
    "       u0>u1"
   ]
  },
  {
   "cell_type": "markdown",
   "id": "75539cfb",
   "metadata": {},
   "source": [
    "##### STEP 3: Define Confident Interval and p value\n",
    " CI= 99%\n",
    " p_value=0.01"
   ]
  },
  {
   "cell_type": "markdown",
   "id": "935a21bd",
   "metadata": {},
   "source": [
    "##### STEP 4: Perform Test"
   ]
  },
  {
   "cell_type": "code",
   "execution_count": 81,
   "id": "9a7eee6c",
   "metadata": {},
   "outputs": [
    {
     "name": "stdout",
     "output_type": "stream",
     "text": [
      "The t score is 4.477343563243787, and p value is: 9.43584422198333e-06\n"
     ]
    }
   ],
   "source": [
    "t_score, p_value=stats.ttest_1samp(cust_demo_2018, 10000)\n",
    "print(\"The t score is {}, and p value is: {}\".format(t_score, p_value))"
   ]
  },
  {
   "cell_type": "markdown",
   "id": "5896aa44",
   "metadata": {},
   "source": [
    "##### STEP 5: Rejection Rule"
   ]
  },
  {
   "cell_type": "code",
   "execution_count": 82,
   "id": "bd568e8e",
   "metadata": {},
   "outputs": [
    {
     "name": "stdout",
     "output_type": "stream",
     "text": [
      "We reject the Null Hypothesis\n"
     ]
    }
   ],
   "source": [
    "if p_value<0.05:\n",
    "    print(\"We reject the Null Hypothesis\")\n",
    "else:\n",
    "    print(\"We fail to reject the Null Hypothesis\")"
   ]
  },
  {
   "cell_type": "markdown",
   "id": "57847b3f",
   "metadata": {},
   "source": [
    "##### STEP 6: Business Conclusion:\n",
    "\n",
    "Current year claim amount is increased from 2016-17 fiscal year"
   ]
  },
  {
   "cell_type": "markdown",
   "id": "994c1c35",
   "metadata": {},
   "source": [
    "### 19. Is there any difference between age groups and insurance claims?"
   ]
  },
  {
   "cell_type": "code",
   "execution_count": 83,
   "id": "1a613e4a",
   "metadata": {},
   "outputs": [
    {
     "data": {
      "text/plain": [
       "3"
      ]
     },
     "execution_count": 83,
     "metadata": {},
     "output_type": "execute_result"
    }
   ],
   "source": [
    "cust_demographics_claims.Age_Group.nunique()"
   ]
  },
  {
   "cell_type": "code",
   "execution_count": 84,
   "id": "6091bc07",
   "metadata": {},
   "outputs": [
    {
     "data": {
      "text/plain": [
       "Adult     800\n",
       "Youth     220\n",
       "Senior     58\n",
       "Name: Age_Group, dtype: int64"
      ]
     },
     "execution_count": 84,
     "metadata": {},
     "output_type": "execute_result"
    }
   ],
   "source": [
    "cust_demographics_claims.Age_Group.value_counts()"
   ]
  },
  {
   "cell_type": "code",
   "execution_count": 85,
   "id": "9482466d",
   "metadata": {},
   "outputs": [],
   "source": [
    "claimed_policies='claim_amount'"
   ]
  },
  {
   "cell_type": "code",
   "execution_count": 86,
   "id": "ce9d5108",
   "metadata": {},
   "outputs": [],
   "source": [
    "s1=cust_demographics_claims.loc[cust_demographics_claims.Age_Group=='Adult', claimed_policies]\n",
    "s2=cust_demographics_claims.loc[cust_demographics_claims.Age_Group=='Youth', claimed_policies]\n",
    "s3=cust_demographics_claims.loc[cust_demographics_claims.Age_Group=='Senior', claimed_policies]"
   ]
  },
  {
   "cell_type": "code",
   "execution_count": 87,
   "id": "d73591f5",
   "metadata": {},
   "outputs": [
    {
     "name": "stdout",
     "output_type": "stream",
     "text": [
      "Mean of Adult amount claimed:  12515.46286093288 \n",
      "Mean of Youth amount claimed:  12138.092506506324 \n",
      "Mean of Adult amount claimed:  13691.561825577832\n"
     ]
    }
   ],
   "source": [
    "print('Mean of Adult amount claimed: ', s1.mean(), '\\nMean of Youth amount claimed: ', s2.mean(), '\\nMean of Adult amount claimed: ', s3.mean())"
   ]
  },
  {
   "cell_type": "markdown",
   "id": "55328600",
   "metadata": {},
   "source": [
    "##### STEP 1: Define Null Hypothesis H0:\n",
    "Age Group and insurance claims are independent"
   ]
  },
  {
   "cell_type": "markdown",
   "id": "bb0d9f77",
   "metadata": {},
   "source": [
    "##### STEP 2: Define Alternate Hypothesis Ha:\n",
    "Age Group and insurance claim are dependent"
   ]
  },
  {
   "cell_type": "markdown",
   "id": "106c2118",
   "metadata": {},
   "source": [
    "##### STEP 3: Define Confident Interval and pvalue:\n",
    "    CI= 95% (cut off=1.960)\n",
    "    pvale=0.05\n"
   ]
  },
  {
   "cell_type": "markdown",
   "id": "c84dd687",
   "metadata": {},
   "source": [
    "##### STEP 4: Perform Test: ANOVA test"
   ]
  },
  {
   "cell_type": "code",
   "execution_count": 88,
   "id": "c7469e88",
   "metadata": {},
   "outputs": [
    {
     "name": "stdout",
     "output_type": "stream",
     "text": [
      "The f_score is: 0.31140668619798223, and p_value is: 0.7324819994390802\n"
     ]
    }
   ],
   "source": [
    "t=stats.f_oneway(s1, s2, s3)\n",
    "f_score=t.statistic\n",
    "p_value=t.pvalue\n",
    "print('The f_score is: {}, and p_value is: {}'.format(f_score, p_value))"
   ]
  },
  {
   "cell_type": "markdown",
   "id": "ff6fcacb",
   "metadata": {},
   "source": [
    "##### STEP 5: Rejection Rule:"
   ]
  },
  {
   "cell_type": "code",
   "execution_count": 89,
   "id": "ca556078",
   "metadata": {},
   "outputs": [
    {
     "name": "stdout",
     "output_type": "stream",
     "text": [
      "\n",
      "We fail to reject Null Hypothesis!\n"
     ]
    }
   ],
   "source": [
    "if p_value<0.05:\n",
    "    print(\"We reject Null Hypothesis!\")\n",
    "else:\n",
    "    print(\"\\nWe fail to reject Null Hypothesis!\")"
   ]
  },
  {
   "cell_type": "markdown",
   "id": "0dc998d5",
   "metadata": {},
   "source": [
    "##### STEP 6: Business Conclusion\n",
    "\n",
    "Age Group and insurance claim are independent"
   ]
  },
  {
   "cell_type": "markdown",
   "id": "01e1f3d8",
   "metadata": {},
   "source": [
    "### 20. Is there any relationship between total number of policy claims and the claimed amount?"
   ]
  },
  {
   "cell_type": "code",
   "execution_count": 90,
   "id": "748c5655",
   "metadata": {},
   "outputs": [
    {
     "data": {
      "text/plain": [
       "customer_id            1078\n",
       "gender                    2\n",
       "DateOfBirth            1078\n",
       "State                    50\n",
       "Contact                1078\n",
       "Segment                   3\n",
       "claim_id               1078\n",
       "incident_cause            5\n",
       "claim_date              100\n",
       "claim_area                2\n",
       "police_report             2\n",
       "claim_type                3\n",
       "claim_amount            675\n",
       "total_policy_claims       8\n",
       "fraudulent                2\n",
       "flag                      2\n",
       "Age                      41\n",
       "Age_Group                 3\n",
       "Month                    12\n",
       "Year                      2\n",
       "dtype: int64"
      ]
     },
     "execution_count": 90,
     "metadata": {},
     "output_type": "execute_result"
    }
   ],
   "source": [
    "cust_demographics_claims.nunique()"
   ]
  },
  {
   "cell_type": "markdown",
   "id": "d04a3677",
   "metadata": {},
   "source": [
    "##### STEP 1 : Define Null Hypothesis (H0):\n",
    "\n",
    "Total number of policy claims and claim amount are not dependent"
   ]
  },
  {
   "cell_type": "markdown",
   "id": "132f5372",
   "metadata": {},
   "source": [
    "##### STEP 2: Define Alternate Hypothesis (Ha):\n",
    "Total number of policy claims and claim amount are dependent"
   ]
  },
  {
   "cell_type": "markdown",
   "id": "cf925642",
   "metadata": {},
   "source": [
    "##### STEP 3: Define Confience Interval (CI) and p value:\n",
    "\n",
    "    CI=95% (1.960)\n",
    "    p value=0.05"
   ]
  },
  {
   "cell_type": "markdown",
   "id": "6f2ce86d",
   "metadata": {},
   "source": [
    "#### STEP 4 : Perform Test: ANOVA | F test"
   ]
  },
  {
   "cell_type": "code",
   "execution_count": 91,
   "id": "8775833c",
   "metadata": {},
   "outputs": [
    {
     "data": {
      "text/plain": [
       "1.0    779\n",
       "2.0    105\n",
       "3.0     85\n",
       "4.0     59\n",
       "5.0     27\n",
       "6.0     10\n",
       "7.0      2\n",
       "8.0      1\n",
       "Name: total_policy_claims, dtype: int64"
      ]
     },
     "execution_count": 91,
     "metadata": {},
     "output_type": "execute_result"
    }
   ],
   "source": [
    "cust_demographics_claims.total_policy_claims.value_counts()"
   ]
  },
  {
   "cell_type": "code",
   "execution_count": 92,
   "id": "18b1cc24",
   "metadata": {},
   "outputs": [],
   "source": [
    "usage='claim_amount'"
   ]
  },
  {
   "cell_type": "code",
   "execution_count": 93,
   "id": "20d0380a",
   "metadata": {},
   "outputs": [],
   "source": [
    "s1=cust_demographics_claims.loc[cust_demographics_claims.total_policy_claims==1.0, usage]\n",
    "s2=cust_demographics_claims.loc[cust_demographics_claims.total_policy_claims==2.0, usage]\n",
    "s3=cust_demographics_claims.loc[cust_demographics_claims.total_policy_claims==3.0, usage]\n",
    "s4=cust_demographics_claims.loc[cust_demographics_claims.total_policy_claims==4.0, usage]\n",
    "s5=cust_demographics_claims.loc[cust_demographics_claims.total_policy_claims==5.0, usage]\n",
    "s6=cust_demographics_claims.loc[cust_demographics_claims.total_policy_claims==6.0, usage]\n",
    "s7=cust_demographics_claims.loc[cust_demographics_claims.total_policy_claims==7.0, usage]\n",
    "s8=cust_demographics_claims.loc[cust_demographics_claims.total_policy_claims==8.0, usage]"
   ]
  },
  {
   "cell_type": "code",
   "execution_count": 94,
   "id": "81ef2ffa",
   "metadata": {},
   "outputs": [],
   "source": [
    "f_score, p_value=stats.f_oneway(s1, s2, s3, s4, s5, s6, s7, s8)"
   ]
  },
  {
   "cell_type": "code",
   "execution_count": 95,
   "id": "cf841d4b",
   "metadata": {},
   "outputs": [
    {
     "data": {
      "text/plain": [
       "0.838930514038453"
      ]
     },
     "execution_count": 95,
     "metadata": {},
     "output_type": "execute_result"
    }
   ],
   "source": [
    "f_score"
   ]
  },
  {
   "cell_type": "code",
   "execution_count": 96,
   "id": "1268c72b",
   "metadata": {},
   "outputs": [
    {
     "data": {
      "text/plain": [
       "0.5549962679331616"
      ]
     },
     "execution_count": 96,
     "metadata": {},
     "output_type": "execute_result"
    }
   ],
   "source": [
    "p_value"
   ]
  },
  {
   "cell_type": "markdown",
   "id": "521bc8ef",
   "metadata": {},
   "source": [
    "##### STEP 5 : Rejection Rule"
   ]
  },
  {
   "cell_type": "code",
   "execution_count": 97,
   "id": "7696fc88",
   "metadata": {},
   "outputs": [
    {
     "name": "stdout",
     "output_type": "stream",
     "text": [
      "We fail to reject Null Hypothesis !\n"
     ]
    }
   ],
   "source": [
    "if p_value<0.05:\n",
    "    print(\"We reject Null Hypothesis !\")\n",
    "else:\n",
    "    print(\"We fail to reject Null Hypothesis !\")"
   ]
  },
  {
   "cell_type": "markdown",
   "id": "7df2350d",
   "metadata": {},
   "source": [
    "##### STEP 6 : Business Conclusion:\n",
    "Total poilcy claims and claim amount are not dependent"
   ]
  }
 ],
 "metadata": {
  "kernelspec": {
   "display_name": "Python 3 (ipykernel)",
   "language": "python",
   "name": "python3"
  },
  "language_info": {
   "codemirror_mode": {
    "name": "ipython",
    "version": 3
   },
   "file_extension": ".py",
   "mimetype": "text/x-python",
   "name": "python",
   "nbconvert_exporter": "python",
   "pygments_lexer": "ipython3",
   "version": "3.11.3"
  }
 },
 "nbformat": 4,
 "nbformat_minor": 5
}
